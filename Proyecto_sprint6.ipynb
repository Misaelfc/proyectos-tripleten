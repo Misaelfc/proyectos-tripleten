{
 "cells": [
  {
   "cell_type": "markdown",
   "metadata": {},
   "source": [
    "Trabajas para la tienda online Ice que vende videojuegos por todo el mundo. Las reseñas de usuarios y expertos, los géneros, las plataformas (por ejemplo, Xbox o PlayStation) y los datos históricos sobre las ventas de juegos están disponibles en fuentes abiertas. Tienes que identificar patrones que determinen si un juego tiene éxito o no. Esto te permitirá detectar proyectos prometedores y planificar campañas publicitarias.\n",
    "\n",
    "Delante de ti hay datos que se remontan a 2016. Imaginemos que es diciembre de 2016 y estás planeando una campaña para 2017.\n",
    "\n",
    "Lo importante es adquirir experiencia de trabajo con datos. Realmente no importa si estás pronosticando las ventas de 2017 en función de los datos de 2016 o las ventas de 2027 en función de los datos de 2026.\n",
    "\n",
    "El dataset contiene una columna \"rating\" que almacena la clasificación ESRB de cada juego. El Entertainment Software Rating Board (la Junta de clasificación de software de entretenimiento) evalúa el contenido de un juego y asigna una clasificación de edad como Adolescente o Adulto."
   ]
  },
  {
   "cell_type": "markdown",
   "metadata": {},
   "source": [
    "## Inicialización"
   ]
  },
  {
   "cell_type": "code",
   "execution_count": 47,
   "metadata": {},
   "outputs": [
    {
     "name": "stdout",
     "output_type": "stream",
     "text": [
      "<class 'pandas.core.frame.DataFrame'>\n",
      "RangeIndex: 16715 entries, 0 to 16714\n",
      "Data columns (total 11 columns):\n",
      " #   Column           Non-Null Count  Dtype  \n",
      "---  ------           --------------  -----  \n",
      " 0   Name             16713 non-null  object \n",
      " 1   Platform         16715 non-null  object \n",
      " 2   Year_of_Release  16446 non-null  float64\n",
      " 3   Genre            16713 non-null  object \n",
      " 4   NA_sales         16715 non-null  float64\n",
      " 5   EU_sales         16715 non-null  float64\n",
      " 6   JP_sales         16715 non-null  float64\n",
      " 7   Other_sales      16715 non-null  float64\n",
      " 8   Critic_Score     8137 non-null   float64\n",
      " 9   User_Score       10014 non-null  object \n",
      " 10  Rating           9949 non-null   object \n",
      "dtypes: float64(6), object(5)\n",
      "memory usage: 1.4+ MB\n"
     ]
    }
   ],
   "source": [
    "import pandas as pd\n",
    "import matplotlib.pyplot as plt\n",
    "import seaborn as sns\n",
    "from scipy import stats\n",
    "\n",
    "games_df = pd.read_csv('games.csv')\n",
    "games_df.info()"
   ]
  },
  {
   "cell_type": "markdown",
   "metadata": {},
   "source": [
    "## Preparar los datos"
   ]
  },
  {
   "cell_type": "code",
   "execution_count": 48,
   "metadata": {},
   "outputs": [
    {
     "name": "stdout",
     "output_type": "stream",
     "text": [
      "Index(['name', 'platform', 'year_of_release', 'genre', 'na_sales', 'eu_sales',\n",
      "       'jp_sales', 'other_sales', 'critic_score', 'user_score', 'rating'],\n",
      "      dtype='object')\n"
     ]
    }
   ],
   "source": [
    "# Reemplaza los nombres de las columnas (ponlos en minúsculas)\n",
    "games_df.columns = games_df.columns.str.lower()\n",
    "print(games_df.columns)"
   ]
  },
  {
   "cell_type": "code",
   "execution_count": 49,
   "metadata": {},
   "outputs": [
    {
     "data": {
      "text/plain": [
       "name                 object\n",
       "platform           category\n",
       "year_of_release       Int64\n",
       "genre              category\n",
       "na_sales            float64\n",
       "eu_sales            float64\n",
       "jp_sales            float64\n",
       "other_sales         float64\n",
       "critic_score        float64\n",
       "user_score           object\n",
       "rating             category\n",
       "dtype: object"
      ]
     },
     "execution_count": 49,
     "metadata": {},
     "output_type": "execute_result"
    }
   ],
   "source": [
    "# Convierte los datos en los tipos necesarios.\n",
    "games_df['year_of_release'] = pd.to_numeric(games_df['year_of_release'], errors='coerce').astype('Int64')\n",
    "for col in ['platform', 'genre', 'rating']:\n",
    "    games_df[col] = games_df[col].astype('category')\n",
    "games_df.dtypes\n"
   ]
  },
  {
   "cell_type": "markdown",
   "metadata": {},
   "source": [
    "### Describe las columnas en las que los tipos de datos han sido cambiados y explica por qué.\n",
    "\n",
    "Se cambio el tipo de year of release a Int64 porque los años los tomaremos como números enteros.\n",
    "\n",
    "na_sales, eu_sales, jp_sales, other_sales, critic_score, user_score  de object a float64.\n",
    "Se cambió porque manejan números decimales y poder hacer un análisis má estadístico.\n",
    "\n",
    "platform, genre, rating de object a category.\n",
    "Se cambió porque son columnas que tienen valores en números como en string"
   ]
  },
  {
   "cell_type": "code",
   "execution_count": 50,
   "metadata": {},
   "outputs": [
    {
     "data": {
      "text/plain": [
       "name                 object\n",
       "platform           category\n",
       "year_of_release       Int64\n",
       "genre              category\n",
       "na_sales            float64\n",
       "eu_sales            float64\n",
       "jp_sales            float64\n",
       "other_sales         float64\n",
       "critic_score        float64\n",
       "user_score          float64\n",
       "rating             category\n",
       "dtype: object"
      ]
     },
     "execution_count": 50,
     "metadata": {},
     "output_type": "execute_result"
    }
   ],
   "source": [
    "# Reemplaza 'tbd' con NaN y convierte a numérico\n",
    "games_df['user_score'] = games_df['user_score'].replace('tbd', pd.NA)\n",
    "games_df['user_score'] = pd.to_numeric(games_df['user_score'], errors='coerce')\n",
    "games_df.dtypes"
   ]
  },
  {
   "cell_type": "markdown",
   "metadata": {},
   "source": [
    "### Explica por qué rellenaste los valores ausentes como lo hiciste o por qué decidiste dejarlos en blanco.\n",
    "\n",
    "En year_of_release no se rellenó porque inventar un año afectaría el analisis.\n",
    "\n",
    "En critic_score y user_score no se rellenó porque una puntuación faltante no puede ser asumida como 0 ni promedio"
   ]
  },
  {
   "cell_type": "markdown",
   "metadata": {},
   "source": [
    "### ¿Por qué crees que los valores están ausentes? Brinda explicaciones posibles.\n",
    "\n",
    "Porque puede faltar datos incompletos o no registrados como  juegos menos conocidos, lanzamientos locales o prototipos que no tienen fecha pública.\n",
    "\n",
    "También se debe a la falta de actualización de los datos.\n",
    "\n"
   ]
  },
  {
   "cell_type": "markdown",
   "metadata": {},
   "source": [
    "### Presta atención a la abreviatura TBD: significa \"to be determined\" (a determinar). Especifica cómo piensas manejar estos casos.\n",
    "\n",
    "Se deben convertir todos los tbd en valores ausentes (NaN), para que Pandas lo trate correctamente como dato faltante.\n",
    "\n",
    "Así podemos hacer calcular promedios sin errores "
   ]
  },
  {
   "cell_type": "code",
   "execution_count": 51,
   "metadata": {},
   "outputs": [
    {
     "name": "stdout",
     "output_type": "stream",
     "text": [
      "                       name  total_sales\n",
      "0                Wii Sports        82.54\n",
      "1         Super Mario Bros.        40.24\n",
      "2            Mario Kart Wii        35.52\n",
      "3         Wii Sports Resort        32.77\n",
      "4  Pokemon Red/Pokemon Blue        31.38\n"
     ]
    }
   ],
   "source": [
    "# Calcula las ventas totales (la suma de las ventas en todas las regiones) para cada juego y coloca estos valores en una columna separada.\n",
    "games_df['total_sales'] = games_df[['na_sales', 'eu_sales', 'jp_sales', 'other_sales']].fillna(0).sum(axis=1)\n",
    "print(games_df[['name','total_sales']].head())"
   ]
  },
  {
   "cell_type": "markdown",
   "metadata": {},
   "source": [
    "# Paso 3. Analiza los datos"
   ]
  },
  {
   "cell_type": "code",
   "execution_count": 52,
   "metadata": {},
   "outputs": [
    {
     "name": "stdout",
     "output_type": "stream",
     "text": [
      "year_of_release\n",
      "1980       9\n",
      "1981      46\n",
      "1982      36\n",
      "1983      17\n",
      "1984      14\n",
      "1985      14\n",
      "1986      21\n",
      "1987      16\n",
      "1988      15\n",
      "1989      17\n",
      "1990      16\n",
      "1991      41\n",
      "1992      43\n",
      "1993      62\n",
      "1994     121\n",
      "1995     219\n",
      "1996     263\n",
      "1997     289\n",
      "1998     379\n",
      "1999     338\n",
      "2000     350\n",
      "2001     482\n",
      "2002     829\n",
      "2003     775\n",
      "2004     762\n",
      "2005     939\n",
      "2006    1006\n",
      "2007    1197\n",
      "2008    1427\n",
      "2009    1426\n",
      "2010    1255\n",
      "2011    1136\n",
      "2012     653\n",
      "2013     544\n",
      "2014     581\n",
      "2015     606\n",
      "2016     502\n",
      "Name: count, dtype: Int64\n"
     ]
    }
   ],
   "source": [
    "# Cuántos juegos fueron lanzados en diferentes años.\n",
    "release_counts = games_df['year_of_release'].value_counts().sort_index()\n",
    "print(release_counts)"
   ]
  },
  {
   "cell_type": "markdown",
   "metadata": {},
   "source": [
    "¿Son significativos los datos de cada período?\n",
    "\n",
    "Claro que si porque cada año se van vendiendo más juegos lo podemos ver desde los primeros años hasta los últimos años como desde el 2002 tuvo un crecimiento exponencial."
   ]
  },
  {
   "cell_type": "markdown",
   "metadata": {},
   "source": [
    "### Observa cómo varían las ventas de una plataforma a otra. "
   ]
  },
  {
   "cell_type": "code",
   "execution_count": 53,
   "metadata": {},
   "outputs": [
    {
     "name": "stdout",
     "output_type": "stream",
     "text": [
      "platform\n",
      "PS2     1255.77\n",
      "X360     971.42\n",
      "PS3      939.65\n",
      "Wii      907.51\n",
      "DS       806.12\n",
      "PS       730.86\n",
      "GBA      317.85\n",
      "PS4      314.14\n",
      "PSP      294.05\n",
      "PC       259.52\n",
      "Name: total_sales, dtype: float64\n"
     ]
    },
    {
     "name": "stderr",
     "output_type": "stream",
     "text": [
      "/var/folders/jq/2h871vkx781b1md5jy5p7s940000gn/T/ipykernel_3007/1525730601.py:2: FutureWarning: The default of observed=False is deprecated and will be changed to True in a future version of pandas. Pass observed=False to retain current behavior or observed=True to adopt the future default and silence this warning.\n",
      "  platform_sales = games_df.groupby('platform')['total_sales'].sum().sort_values(ascending=False)\n"
     ]
    }
   ],
   "source": [
    "# Elige las plataformas con las mayores ventas totales y construye una distribución basada en los datos de cada año.\n",
    "platform_sales = games_df.groupby('platform')['total_sales'].sum().sort_values(ascending=False)\n",
    "print(platform_sales.head(10))"
   ]
  },
  {
   "cell_type": "code",
   "execution_count": 54,
   "metadata": {},
   "outputs": [
    {
     "name": "stdout",
     "output_type": "stream",
     "text": [
      "Plataformas populares: CategoricalIndex(['PS2', 'X360', 'PS3', 'Wii', 'DS', 'PS', 'GBA', 'PS4', 'PSP',\n",
      "                  'PC', '3DS', 'XB', 'GB', 'NES', 'N64', 'SNES', 'GC', 'XOne',\n",
      "                  '2600', 'WiiU', 'PSV', 'SAT', 'GEN', 'DC', 'SCD', 'NG', 'WS',\n",
      "                  'TG16', '3DO', 'GG', 'PCFX'],\n",
      "                 categories=['2600', '3DO', '3DS', 'DC', ..., 'WiiU', 'X360', 'XB', 'XOne'], ordered=False, dtype='category', name='platform')\n"
     ]
    }
   ],
   "source": [
    "# Busca las plataformas que solían ser populares pero que ahora no tienen ventas.\n",
    "popular_platforms = platform_sales[platform_sales > 0].index\n",
    "print(\"Plataformas populares:\", popular_platforms)"
   ]
  },
  {
   "cell_type": "code",
   "execution_count": 55,
   "metadata": {},
   "outputs": [
    {
     "name": "stdout",
     "output_type": "stream",
     "text": [
      "           min   max  lifespan\n",
      "platform                      \n",
      "PC        1985  2016        31\n",
      "DS        1985  2013        28\n",
      "GB        1988  2001        13\n",
      "X360      2005  2016        11\n",
      "PSP       2004  2015        11\n",
      "PS2       2000  2011        11\n",
      "NES       1983  1994        11\n",
      "DC        1998  2008        10\n",
      "Wii       2006  2016        10\n",
      "PS3       2006  2016        10\n"
     ]
    },
    {
     "name": "stderr",
     "output_type": "stream",
     "text": [
      "/var/folders/jq/2h871vkx781b1md5jy5p7s940000gn/T/ipykernel_3007/1094894780.py:3: FutureWarning: The default of observed=False is deprecated and will be changed to True in a future version of pandas. Pass observed=False to retain current behavior or observed=True to adopt the future default and silence this warning.\n",
      "  games_df.groupby('platform')['year_of_release']\n"
     ]
    }
   ],
   "source": [
    "# ¿Cuánto tardan generalmente las nuevas plataformas en aparecer y las antiguas en desaparecer?\n",
    "platform_lifecycle = (\n",
    "    games_df.groupby('platform')['year_of_release']\n",
    "    .agg(['min', 'max'])\n",
    "    .dropna()\n",
    "    .astype(int)\n",
    ")\n",
    "platform_lifecycle['lifespan'] = platform_lifecycle['max'] - platform_lifecycle['min']\n",
    "print(platform_lifecycle.sort_values('lifespan', ascending=False).head(10))"
   ]
  },
  {
   "cell_type": "markdown",
   "metadata": {},
   "source": [
    "### Determina para qué período debes tomar datos. Para hacerlo mira tus respuestas a las preguntas anteriores. Los datos deberían permitirte construir un modelo para 2017.\n",
    "\n",
    "Hay plataformas desaparecidas antes del 2012 como PS2, GB, NES, DC.\n",
    "\n",
    "Empezaron en los años 80s y 90 y son consolas muy antiguas.\n",
    "\n",
    "Los que realmente nos importan son las consolas a partir del año 2012 como PS3, X360 y el Wii"
   ]
  },
  {
   "cell_type": "code",
   "execution_count": 56,
   "metadata": {},
   "outputs": [
    {
     "name": "stdout",
     "output_type": "stream",
     "text": [
      "                          name platform  year_of_release  total_sales\n",
      "16          Grand Theft Auto V      PS3             2013        21.05\n",
      "23          Grand Theft Auto V     X360             2013        16.27\n",
      "31   Call of Duty: Black Ops 3      PS4             2015        14.63\n",
      "33         Pokemon X/Pokemon Y      3DS             2013        14.60\n",
      "34  Call of Duty: Black Ops II      PS3             2012        13.79\n"
     ]
    }
   ],
   "source": [
    "# Trabaja solo con los datos que consideras relevantes. Ignora los datos de años anteriores.\n",
    "model_data = games_df[\n",
    "    (games_df['year_of_release'] >= 2012) &\n",
    "    (games_df['year_of_release'] <= 2016)\n",
    "]\n",
    "\n",
    "print(model_data[['name', 'platform', 'year_of_release', 'total_sales']].head())"
   ]
  },
  {
   "cell_type": "code",
   "execution_count": 57,
   "metadata": {},
   "outputs": [
    {
     "name": "stdout",
     "output_type": "stream",
     "text": [
      "Plataformas líderes en ventas:\n",
      "platform\n",
      "PS2     1255.77\n",
      "X360     971.42\n",
      "PS3      939.65\n",
      "Wii      907.51\n",
      "DS       806.12\n",
      "PS       730.86\n",
      "GBA      317.85\n",
      "PS4      314.14\n",
      "PSP      294.05\n",
      "PC       259.52\n",
      "Name: total_sales, dtype: float64\n"
     ]
    },
    {
     "name": "stderr",
     "output_type": "stream",
     "text": [
      "/var/folders/jq/2h871vkx781b1md5jy5p7s940000gn/T/ipykernel_3007/3689764750.py:2: FutureWarning: The default of observed=False is deprecated and will be changed to True in a future version of pandas. Pass observed=False to retain current behavior or observed=True to adopt the future default and silence this warning.\n",
      "  platform_sales = games_df.groupby('platform')['total_sales'].sum().sort_values(ascending=False)\n"
     ]
    }
   ],
   "source": [
    "# ¿Qué plataformas son líderes en ventas?\n",
    "platform_sales = games_df.groupby('platform')['total_sales'].sum().sort_values(ascending=False)\n",
    "print(\"Plataformas líderes en ventas:\")\n",
    "print(platform_sales.head(10))"
   ]
  },
  {
   "cell_type": "code",
   "execution_count": 58,
   "metadata": {},
   "outputs": [
    {
     "name": "stdout",
     "output_type": "stream",
     "text": [
      "platform\n",
      "PS4      69.25\n",
      "XOne     26.15\n",
      "NG        0.00\n",
      "XB        0.00\n",
      "WS        0.00\n",
      "TG16      0.00\n",
      "SNES      0.00\n",
      "SCD       0.00\n",
      "SAT       0.00\n",
      "PS2       0.00\n",
      "3DO       0.00\n",
      "PCFX      0.00\n",
      "2600      0.00\n",
      "GBA       0.00\n",
      "GC        0.00\n",
      "DC        0.00\n",
      "GB        0.00\n",
      "NES       0.00\n",
      "PS        0.00\n",
      "GEN       0.00\n",
      "GG        0.00\n",
      "N64       0.00\n",
      "PSP      -7.69\n",
      "DS      -11.01\n",
      "PSV     -11.94\n",
      "WiiU    -12.96\n",
      "PC      -17.97\n",
      "Wii     -21.53\n",
      "3DS     -36.22\n",
      "X360    -98.22\n",
      "PS3    -103.76\n",
      "dtype: float64\n"
     ]
    },
    {
     "name": "stderr",
     "output_type": "stream",
     "text": [
      "/var/folders/jq/2h871vkx781b1md5jy5p7s940000gn/T/ipykernel_3007/3743814208.py:6: FutureWarning: The default of observed=False is deprecated and will be changed to True in a future version of pandas. Pass observed=False to retain current behavior or observed=True to adopt the future default and silence this warning.\n",
      "  .groupby(['year_of_release', 'platform'])['total_sales']\n"
     ]
    }
   ],
   "source": [
    "# ¿Cuáles crecen y cuáles se reducen?\n",
    "# Agrupar por año y plataforma\n",
    "yearly_sales = (\n",
    "    games_df\n",
    "    .dropna(subset=['year_of_release'])\n",
    "    .groupby(['year_of_release', 'platform'])['total_sales']\n",
    "    .sum()\n",
    "    .unstack(fill_value=0)\n",
    ")\n",
    "# Calcular diferencia entre 2016 y 2012 (últimos 5 años antes de 2017)\n",
    "growth = yearly_sales.loc[2016] - yearly_sales.loc[2012]\n",
    "growth = growth.sort_values(ascending=False)\n",
    "print(growth)"
   ]
  },
  {
   "cell_type": "markdown",
   "metadata": {},
   "source": [
    "Las plataformas que crecen en ventas son el PS4 con más de 69.25 millones, de ahí le sigue Xbox One con más de 26.15 millones.\n",
    "\n",
    "Plataformas que se reducen son PS3, Xbox 360, 3DS, DS, PSP. Estas plataformas están en declive o saliendo del mercado"
   ]
  },
  {
   "cell_type": "code",
   "execution_count": 59,
   "metadata": {},
   "outputs": [
    {
     "name": "stderr",
     "output_type": "stream",
     "text": [
      "/opt/homebrew/anaconda3/lib/python3.11/site-packages/seaborn/categorical.py:641: FutureWarning: The default of observed=False is deprecated and will be changed to True in a future version of pandas. Pass observed=False to retain current behavior or observed=True to adopt the future default and silence this warning.\n",
      "  grouped_vals = vals.groupby(grouper)\n"
     ]
    },
    {
     "data": {
      "image/png": "[encoded data removed]",
      "text/plain": [
       "<Figure size 1400x600 with 1 Axes>"
      ]
     },
     "metadata": {},
     "output_type": "display_data"
    }
   ],
   "source": [
    "# Crea un diagrama de caja para las ventas globales de todos los juegos, desglosados por plataforma.\n",
    "filtered_df = games_df[games_df['total_sales'] > 0]\n",
    "plt.figure(figsize=(14, 6))\n",
    "sns.boxplot(x='platform', y='total_sales', data=filtered_df)\n",
    "plt.title('Distribución de ventas globales por plataforma')\n",
    "plt.xlabel('Plataforma')\n",
    "plt.ylabel('Ventas globales (millones)')\n",
    "plt.xticks(rotation=45)\n",
    "plt.grid(True)\n",
    "plt.tight_layout()\n",
    "plt.show()\n"
   ]
  },
  {
   "cell_type": "markdown",
   "metadata": {},
   "source": [
    "### ¿Son significativas las diferencias en las ventas?\n",
    "\n",
    "Sí, definitivamente:\n",
    "\n",
    "Algunas plataformas tienen mucho más potencial comercial que otras.\n",
    "\n",
    "La mayoría de los juegos no venden mucho, pero algunas plataformas tienen muchos más juegos exitosos."
   ]
  },
  {
   "cell_type": "code",
   "execution_count": 60,
   "metadata": {},
   "outputs": [
    {
     "name": "stdout",
     "output_type": "stream",
     "text": [
      "Ventas promedio por plataforma:\n"
     ]
    },
    {
     "name": "stderr",
     "output_type": "stream",
     "text": [
      "/var/folders/jq/2h871vkx781b1md5jy5p7s940000gn/T/ipykernel_3007/2667823279.py:2: FutureWarning: The default of observed=False is deprecated and will be changed to True in a future version of pandas. Pass observed=False to retain current behavior or observed=True to adopt the future default and silence this warning.\n",
      "  avg_sales = games_df.groupby('platform')['total_sales'].mean().sort_values(ascending=False)\n"
     ]
    },
    {
     "data": {
      "text/plain": [
       "platform\n",
       "GB      2.606735\n",
       "NES     2.561735\n",
       "GEN     1.061034\n",
       "SNES    0.836987\n",
       "PS4     0.801378\n",
       "X360    0.769746\n",
       "2600    0.729173\n",
       "PS3     0.705973\n",
       "Wii     0.687508\n",
       "N64     0.685517\n",
       "Name: total_sales, dtype: float64"
      ]
     },
     "execution_count": 60,
     "metadata": {},
     "output_type": "execute_result"
    }
   ],
   "source": [
    "# ¿Qué sucede con las ventas promedio en varias plataformas? \n",
    "avg_sales = games_df.groupby('platform')['total_sales'].mean().sort_values(ascending=False)\n",
    "print(\"Ventas promedio por plataforma:\")\n",
    "avg_sales.head(10)"
   ]
  },
  {
   "cell_type": "markdown",
   "metadata": {},
   "source": [
    "GB y NES lideran en promedio, pero con pocos juegos y muchos clásicos.\n",
    "\n",
    "PS4 y X360 tienen buen rendimiento promedio con un catálogo amplio y son de las plataformas más actuales.\n",
    "\n",
    "PS3, Wii, N64 también tienen promedios aceptables, pero ya no son plataformas activas.\n",
    "\n"
   ]
  },
  {
   "cell_type": "markdown",
   "metadata": {},
   "source": [
    "### Mira cómo las reseñas de usuarios y profesionales afectan las ventas de una plataforma popular (tu elección)"
   ]
  },
  {
   "cell_type": "code",
   "execution_count": 61,
   "metadata": {},
   "outputs": [
    {
     "data": {
      "image/png": "[encoded data removed]",
      "text/plain": [
       "<Figure size 800x600 with 1 Axes>"
      ]
     },
     "metadata": {},
     "output_type": "display_data"
    },
    {
     "data": {
      "image/png": "[encoded data removed]",
      "text/plain": [
       "<Figure size 800x600 with 1 Axes>"
      ]
     },
     "metadata": {},
     "output_type": "display_data"
    },
    {
     "name": "stdout",
     "output_type": "stream",
     "text": [
      "Correlación entre reseñas de usuarios y ventas: -0.03\n",
      "Correlación entre reseñas de críticos y ventas: 0.41\n"
     ]
    }
   ],
   "source": [
    "# Crea un gráfico de dispersión y calcula la correlación entre las reseñas y las ventas. Saca conclusiones.\n",
    "# Vamos a elegir PS4\n",
    "ps4_df = games_df[games_df['platform'] == 'PS4'].dropna(subset=['user_score', 'critic_score', 'total_sales'])\n",
    "# Creamos un gráfico de dispersión\n",
    "ps4_df.plot(x='user_score', y='total_sales',kind='scatter', alpha=0.5, title='Ventas vs Reseñas de Usuarios (PS4)', figsize=(8,6,))\n",
    "xlabel = 'Puntuación de Usuarios'\n",
    "ylabel = 'Ventas Totales (millones)'\n",
    "plt.xlabel(xlabel)\n",
    "plt.ylabel(ylabel)\n",
    "plt.grid(True)\n",
    "plt.show()\n",
    "\n",
    "ps4_df.plot(x='critic_score', y='total_sales', kind='scatter', alpha=0.5, title='Ventas vs Reseñas de Críticos (PS4)', figsize=(8,6,))\n",
    "xlabel = 'Puntuación de Críticos'\n",
    "ylabel = 'Ventas Totales (millones)'\n",
    "plt.xlabel(xlabel)\n",
    "plt.ylabel(ylabel)\n",
    "plt.grid(True)\n",
    "plt.show()\n",
    "# Vamos a calcular la correlación\n",
    "user_corr = ps4_df['user_score'].corr(ps4_df['total_sales'])\n",
    "critic_corr = ps4_df['critic_score'].corr(ps4_df['total_sales'])\n",
    "print(f\"Correlación entre reseñas de usuarios y ventas: {user_corr:.2f}\")\n",
    "print(f\"Correlación entre reseñas de críticos y ventas: {critic_corr:.2f}\")"
   ]
  },
  {
   "cell_type": "markdown",
   "metadata": {},
   "source": [
    "# Conclusiones\n",
    "\n",
    "users_score en comparación con las ventas es practicamente nula lo cual no está relacionada con el número de ventas.\n",
    "\n",
    "critic_score en comparación con las ventas es moderadamente positiva, cuando las críticas de las reseñas son positivos las ventes tienden a subir."
   ]
  },
  {
   "cell_type": "code",
   "execution_count": 62,
   "metadata": {},
   "outputs": [
    {
     "name": "stdout",
     "output_type": "stream",
     "text": [
      "                    name platform  total_sales\n",
      "2   Frozen: Olaf's Quest      3DS         0.59\n",
      "4   Frozen: Olaf's Quest       DS         0.51\n",
      "0   Frozen: Olaf's Quest     2600         0.00\n",
      "1   Frozen: Olaf's Quest      3DO         0.00\n",
      "3   Frozen: Olaf's Quest       DC         0.00\n",
      "5   Frozen: Olaf's Quest       GB         0.00\n",
      "6   Frozen: Olaf's Quest      GBA         0.00\n",
      "7   Frozen: Olaf's Quest       GC         0.00\n",
      "8   Frozen: Olaf's Quest      GEN         0.00\n",
      "9   Frozen: Olaf's Quest       GG         0.00\n"
     ]
    },
    {
     "name": "stderr",
     "output_type": "stream",
     "text": [
      "/var/folders/jq/2h871vkx781b1md5jy5p7s940000gn/T/ipykernel_3007/2343423342.py:5: FutureWarning: The default of observed=False is deprecated and will be changed to True in a future version of pandas. Pass observed=False to retain current behavior or observed=True to adopt the future default and silence this warning.\n",
      "  .groupby(['name', 'platform'])['total_sales']\n"
     ]
    }
   ],
   "source": [
    "# Teniendo en cuenta tus conclusiones compara las ventas de los mismos juegos en otras plataformas.\n",
    "multiplatform_games = games_df[games_df['name'].duplicated(keep=False)]\n",
    "comparison = (\n",
    "    multiplatform_games\n",
    "    .groupby(['name', 'platform'])['total_sales']\n",
    "    .sum()\n",
    "    .reset_index()\n",
    "    .sort_values(['name', 'total_sales'], ascending=[True,False])\n",
    ")\n",
    "print(comparison.head(10))"
   ]
  },
  {
   "cell_type": "markdown",
   "metadata": {},
   "source": [
    "### Echa un vistazo a la distribución general de los juegos por género."
   ]
  },
  {
   "cell_type": "code",
   "execution_count": 63,
   "metadata": {},
   "outputs": [
    {
     "name": "stdout",
     "output_type": "stream",
     "text": [
      "Ventas totales por género:\n",
      "genre\n",
      "Action          1744.17\n",
      "Sports          1331.27\n",
      "Shooter         1052.45\n",
      "Role-Playing     934.56\n",
      "Platform         827.77\n",
      "Misc             802.51\n",
      "Racing           728.67\n",
      "Fighting         447.53\n",
      "Simulation       389.97\n",
      "Puzzle           242.57\n",
      "Adventure        237.59\n",
      "Strategy         174.23\n",
      "Name: total_sales, dtype: float64\n"
     ]
    },
    {
     "name": "stderr",
     "output_type": "stream",
     "text": [
      "/var/folders/jq/2h871vkx781b1md5jy5p7s940000gn/T/ipykernel_3007/718471294.py:2: FutureWarning: The default of observed=False is deprecated and will be changed to True in a future version of pandas. Pass observed=False to retain current behavior or observed=True to adopt the future default and silence this warning.\n",
      "  genre_sales = games_df.groupby('genre')['total_sales'].sum().sort_values(ascending=False)\n"
     ]
    }
   ],
   "source": [
    "# ¿Qué se puede decir de los géneros más rentables? \n",
    "genre_sales = games_df.groupby('genre')['total_sales'].sum().sort_values(ascending=False)\n",
    "print(\"Ventas totales por género:\")\n",
    "print(genre_sales)"
   ]
  },
  {
   "cell_type": "markdown",
   "metadata": {},
   "source": [
    "Puedes generalizar acerca de los géneros con ventas altas y bajas?\n",
    "\n",
    "Los generos más rentables son Action, Sports, Shooter, RPG, altas ventas probable muchas franquicias exitosas y están en diferentes plataformas.\n",
    "\n",
    "Los generos menos rentables son Puzzle, Strategy, Adventure, Simulation, tienen menos presencia en consolas y están dirigidos a un nicho de mercado muy chico.\n"
   ]
  },
  {
   "cell_type": "markdown",
   "metadata": {},
   "source": [
    "# Paso 4. Crea un perfil de usuario para cada región"
   ]
  },
  {
   "cell_type": "markdown",
   "metadata": {},
   "source": [
    "### Para cada región (NA, UE, JP) determina:\n",
    "\n",
    "Las cinco plataformas principales. Describe las variaciones en sus cuotas de mercado de una región a otra.\n",
    "Los cinco géneros principales. Explica la diferencia.\n",
    "Si las clasificaciones de ESRB afectan a las ventas en regiones individuales."
   ]
  },
  {
   "cell_type": "code",
   "execution_count": 64,
   "metadata": {},
   "outputs": [
    {
     "name": "stdout",
     "output_type": "stream",
     "text": [
      "Plataformas más populares en NA:\n",
      "platform\n",
      "X360    602.47\n",
      "PS2     583.84\n",
      "Wii     496.90\n",
      "PS3     393.49\n",
      "DS      382.40\n",
      "Name: na_sales, dtype: float64\n",
      "Plataformas más populares en EU:\n",
      "platform\n",
      "PS2     339.29\n",
      "PS3     330.29\n",
      "X360    270.76\n",
      "Wii     262.21\n",
      "PS      213.61\n",
      "Name: eu_sales, dtype: float64\n",
      "Plataformas más populares en JP:\n",
      "platform\n",
      "DS      175.57\n",
      "PS      139.82\n",
      "PS2     139.20\n",
      "SNES    116.55\n",
      "3DS     100.67\n",
      "Name: jp_sales, dtype: float64\n"
     ]
    },
    {
     "name": "stderr",
     "output_type": "stream",
     "text": [
      "/var/folders/jq/2h871vkx781b1md5jy5p7s940000gn/T/ipykernel_3007/3091948336.py:1: FutureWarning: The default of observed=False is deprecated and will be changed to True in a future version of pandas. Pass observed=False to retain current behavior or observed=True to adopt the future default and silence this warning.\n",
      "  region_sales = games_df.groupby('platform')[['na_sales', 'eu_sales', 'jp_sales']].sum()\n"
     ]
    }
   ],
   "source": [
    "region_sales = games_df.groupby('platform')[['na_sales', 'eu_sales', 'jp_sales']].sum()\n",
    "# Calculamos las plataformas más populares en cada región\n",
    "top_na = region_sales['na_sales'].sort_values(ascending=False).head(5)\n",
    "top_eu = region_sales['eu_sales'].sort_values(ascending=False).head(5)\n",
    "top_jp = region_sales['jp_sales'].sort_values(ascending=False).head(5)\n",
    "print(\"Plataformas más populares en NA:\")\n",
    "print(top_na)\n",
    "print(\"Plataformas más populares en EU:\")\n",
    "print(top_eu)\n",
    "print(\"Plataformas más populares en JP:\")\n",
    "print(top_jp)"
   ]
  },
  {
   "cell_type": "code",
   "execution_count": 65,
   "metadata": {},
   "outputs": [
    {
     "name": "stdout",
     "output_type": "stream",
     "text": [
      "Géneros más populares en NA:\n",
      "genre\n",
      "Action      879.01\n",
      "Sports      684.43\n",
      "Shooter     592.24\n",
      "Platform    445.50\n",
      "Misc        407.27\n",
      "Name: na_sales, dtype: float64\n",
      "Géneros más populares en EU:\n",
      "genre\n",
      "Action     519.13\n",
      "Sports     376.79\n",
      "Shooter    317.34\n",
      "Racing     236.51\n",
      "Misc       212.74\n",
      "Name: eu_sales, dtype: float64\n",
      "Géneros más populares en JP:\n",
      "genre\n",
      "Role-Playing    355.41\n",
      "Action          161.43\n",
      "Sports          135.54\n",
      "Platform        130.83\n",
      "Misc            108.11\n",
      "Name: jp_sales, dtype: float64\n"
     ]
    },
    {
     "name": "stderr",
     "output_type": "stream",
     "text": [
      "/var/folders/jq/2h871vkx781b1md5jy5p7s940000gn/T/ipykernel_3007/1051100052.py:2: FutureWarning: The default of observed=False is deprecated and will be changed to True in a future version of pandas. Pass observed=False to retain current behavior or observed=True to adopt the future default and silence this warning.\n",
      "  genre_region_sales = games_df.groupby('genre')[['na_sales', 'eu_sales', 'jp_sales']].sum()\n"
     ]
    }
   ],
   "source": [
    "# Cuales son los cinco generos más populares en cada región\n",
    "genre_region_sales = games_df.groupby('genre')[['na_sales', 'eu_sales', 'jp_sales']].sum()\n",
    "top_eu = genre_region_sales['eu_sales'].sort_values(ascending=False).head(5)\n",
    "top_na = genre_region_sales['na_sales'].sort_values(ascending=False).head(5)\n",
    "top_jp = genre_region_sales['jp_sales'].sort_values(ascending=False).head(5)\n",
    "print(\"Géneros más populares en NA:\")\n",
    "print(top_na)\n",
    "print(\"Géneros más populares en EU:\")\n",
    "print(top_eu)\n",
    "print(\"Géneros más populares en JP:\")\n",
    "print(top_jp)"
   ]
  },
  {
   "cell_type": "markdown",
   "metadata": {},
   "source": [
    "Tanto NA como en EU prefieren géneros de acción, deportes, shooters como los de guerra.\n",
    "\n",
    "Lo que es JP si hay diferencias en los géneros, les gusta más el Role-Playing, también tienen fuerte presencia en los géneros de casuales o de simulación, los de deposrtes o shooters no son tan aficionados."
   ]
  },
  {
   "cell_type": "code",
   "execution_count": 66,
   "metadata": {},
   "outputs": [
    {
     "name": "stdout",
     "output_type": "stream",
     "text": [
      "Ventas por clasificación ESRB:\n",
      "        na_sales  eu_sales  jp_sales\n",
      "rating                              \n",
      "AO          1.26      0.61      0.00\n",
      "E        1292.99    710.25    198.11\n",
      "E10+      353.32    188.52     40.20\n",
      "EC          1.53      0.11      0.00\n",
      "K-A         2.56      0.27      1.46\n",
      "M         748.48    483.97     64.24\n",
      "RP          0.00      0.08      0.00\n",
      "T         759.75    427.03    151.40\n"
     ]
    },
    {
     "name": "stderr",
     "output_type": "stream",
     "text": [
      "/var/folders/jq/2h871vkx781b1md5jy5p7s940000gn/T/ipykernel_3007/1060360881.py:3: FutureWarning: The default of observed=False is deprecated and will be changed to True in a future version of pandas. Pass observed=False to retain current behavior or observed=True to adopt the future default and silence this warning.\n",
      "  esrb_sales = games_df.groupby('rating')[['na_sales', 'eu_sales', 'jp_sales']].sum()\n"
     ]
    }
   ],
   "source": [
    "# Las clasificaciones de ESRB afectan a las ventas en regiones individuales.\n",
    "# Vamos a analizar la relación entre las clasificaciones de ESRB y las ventas en cada región.\n",
    "esrb_sales = games_df.groupby('rating')[['na_sales', 'eu_sales', 'jp_sales']].sum()\n",
    "print(\"Ventas por clasificación ESRB:\")\n",
    "print(esrb_sales)"
   ]
  },
  {
   "cell_type": "markdown",
   "metadata": {},
   "source": [
    "En NA la clasificación E (Everyone) domina claramente. T (Teen) y M (Mature) tienen ventas muy similares. Clasificaciones AO, EC, K-A, RP son insignificantes están entre los >=2 millones.\n",
    "\n",
    "En EU es similar a NA pero con menos peso en M y en E. E también lidera, seguido de T y M.\n",
    "\n",
    "En JP Clasificación E domina, pero con menor volumen total que en NA y EU. T ocupa el segundo lugar y K-A es más relevante aquí que en otras regiones."
   ]
  },
  {
   "cell_type": "markdown",
   "metadata": {},
   "source": [
    "### Paso 5. Prueba las siguientes hipótesis:"
   ]
  },
  {
   "cell_type": "markdown",
   "metadata": {},
   "source": [
    "### Las calificaciones promedio de los usuarios para las plataformas Xbox One y PC son las mismas."
   ]
  },
  {
   "cell_type": "code",
   "execution_count": 67,
   "metadata": {},
   "outputs": [
    {
     "name": "stdout",
     "output_type": "stream",
     "text": [
      "platform\n",
      "XOne    6.521429\n",
      "PC      7.062468\n",
      "Name: user_score, dtype: float64\n"
     ]
    },
    {
     "name": "stderr",
     "output_type": "stream",
     "text": [
      "/var/folders/jq/2h871vkx781b1md5jy5p7s940000gn/T/ipykernel_3007/3568623197.py:2: FutureWarning: The default of observed=False is deprecated and will be changed to True in a future version of pandas. Pass observed=False to retain current behavior or observed=True to adopt the future default and silence this warning.\n",
      "  avg_user_score = games_df.groupby('platform')['user_score'].mean().dropna().sort_values(ascending=False)\n"
     ]
    }
   ],
   "source": [
    "# Calcula las calificaciones promedio por usuarios para las plataformas Xbox One y PC\n",
    "avg_user_score = games_df.groupby('platform')['user_score'].mean().dropna().sort_values(ascending=False)\n",
    "print(avg_user_score.loc[['XOne', 'PC']])"
   ]
  },
  {
   "cell_type": "markdown",
   "metadata": {},
   "source": [
    "PC tiene una una calificación promedio más alta.\n",
    "\n",
    "PC (7.06) supera a Xbox One (6.52) por más de 0.5 puntos, lo cual es una diferencia significativa en escalas de 0 a 10.\n",
    "\n",
    "Esto se debe a que PC pueda tener más juegos valorados positivamente.\n",
    "\n",
    "En conclusión no tienen calificaciones promedio iguales por lo cual los usuarios califican mejor los juegos de PC."
   ]
  },
  {
   "cell_type": "markdown",
   "metadata": {},
   "source": [
    "### Las calificaciones promedio de los usuarios para los géneros de Acción y Deportes son diferentes."
   ]
  },
  {
   "cell_type": "code",
   "execution_count": 68,
   "metadata": {},
   "outputs": [
    {
     "name": "stdout",
     "output_type": "stream",
     "text": [
      "genre\n",
      "Action    7.054044\n",
      "Sports    6.961197\n",
      "Name: user_score, dtype: float64\n"
     ]
    },
    {
     "name": "stderr",
     "output_type": "stream",
     "text": [
      "/var/folders/jq/2h871vkx781b1md5jy5p7s940000gn/T/ipykernel_3007/358398775.py:2: FutureWarning: The default of observed=False is deprecated and will be changed to True in a future version of pandas. Pass observed=False to retain current behavior or observed=True to adopt the future default and silence this warning.\n",
      "  avg_genre_score = games_df.groupby('genre')['user_score'].mean().dropna().sort_values(ascending=False)\n"
     ]
    }
   ],
   "source": [
    "# Calcula las calificaciones promedio de los usuarios para los géneros de Acción y Deportes.\n",
    "avg_genre_score = games_df.groupby('genre')['user_score'].mean().dropna().sort_values(ascending=False)\n",
    "print(avg_genre_score.loc[['Action', 'Sports']])"
   ]
  },
  {
   "cell_type": "markdown",
   "metadata": {},
   "source": [
    "Acción tiene una calificación ligeramente más alta.\n",
    "\n",
    "En conclusiión las calificaciones promedio son iguales si utilizamos un alpha de 0.05. Los usuarios tienden a irse por los dos géneros."
   ]
  },
  {
   "cell_type": "markdown",
   "metadata": {},
   "source": [
    "### Cómo formulaste las hipótesis nula y alternativa.\n",
    "\n",
    "### Qué criterio utilizaste para probar las hipótesis y por qué."
   ]
  },
  {
   "cell_type": "code",
   "execution_count": 69,
   "metadata": {},
   "outputs": [
    {
     "name": "stdout",
     "output_type": "stream",
     "text": [
      "valor p: 4.935072360183576e-06\n",
      "Rechazamos la hipótesis nula: las calificaciones promedio de los usuarios para Xbox One y PC son diferentes.\n"
     ]
    }
   ],
   "source": [
    "# Filtrar las calificaciones por plataforma\n",
    "xone_scores = games_df[games_df['platform'] == 'XOne']['user_score'].dropna()\n",
    "pc_scores = games_df[games_df['platform'] == 'PC']['user_score'].dropna()\n",
    "alpha = 0.05\n",
    "results = stats.ttest_ind(xone_scores, pc_scores, equal_var=False)\n",
    "print('valor p:', results.pvalue)\n",
    "if results.pvalue < alpha:\n",
    "    print(\"Rechazamos la hipótesis nula: las calificaciones promedio de los usuarios para Xbox One y PC son diferentes.\")\n",
    "else:\n",
    "    print(\"No rechazamos la hipótesis nula: las calificaciones promedio de los usuarios para Xbox One y PC son iguales.\")"
   ]
  },
  {
   "cell_type": "code",
   "execution_count": 70,
   "metadata": {},
   "outputs": [
    {
     "name": "stdout",
     "output_type": "stream",
     "text": [
      "valor p: 0.11483818791498293\n",
      "No rechazamos la hipótesis nula: las calificaciones promedio de los usuarios para los géneros de Acción y Deportes son iguales.\n"
     ]
    }
   ],
   "source": [
    "# Filtramos las puntuaciones de usuario por género\n",
    "action_scores = games_df[games_df['genre'] == 'Action']['user_score'].dropna()\n",
    "sports_scores = games_df[games_df['genre'] == 'Sports']['user_score'].dropna()\n",
    "alpha = 0.05\n",
    "results = stats.ttest_ind(action_scores, sports_scores, equal_var=False)\n",
    "print('valor p:', results.pvalue)\n",
    "if results.pvalue < alpha:\n",
    "    print(\"Rechazamos la hipótesis nula: las calificaciones promedio de los usuarios para los géneros de Acción y Deportes son diferentes.\")\n",
    "else:\n",
    "    print(\"No rechazamos la hipótesis nula: las calificaciones promedio de los usuarios para los géneros de Acción y Deportes son iguales.\")"
   ]
  },
  {
   "cell_type": "markdown",
   "metadata": {},
   "source": [
    "Comparamos el valor p con alpha = 0.05:\n",
    "\n",
    "Si p < 0.05  Rechazamos Hipotesis. Hay evidencia de que las medias son diferentes.\n",
    "\n",
    "Si p ≥ 0.05  No podemos rechazar Hipotesis. No hay evidencia suficiente para decir que son diferentes.\n",
    "\n",
    "Usamos una prueba t de dos muestras independientes con un nivel de significancia del 5%, porque comparamos promedios de dos grupos no relacionados y no podemos asumir varianzas iguales."
   ]
  },
  {
   "cell_type": "markdown",
   "metadata": {},
   "source": [
    "# Paso 6. Escribe una conclusión general"
   ]
  },
  {
   "cell_type": "markdown",
   "metadata": {},
   "source": [
    "En conclusión general este proyecto tuvo como objetivo analizar un conjunto de datos sobre videojuegos publicados en múltiples plataformas, para comprender mejor los factores que influyen en sus ventas, identificar tendencias del mercado y evaluar la influencia de variables como género, plataforma, región y calificaciones.\n",
    "\n",
    "Todos los datos los fuimos creando mediante lo pedia el proyecto.\n",
    "\n",
    "En primer lugar fueron las tendencias generales de las ventas. Las plataformas más exitosas en términos de ventas totales históricas fueron PS2, X360, PS3 y Wii.\n",
    "\n",
    "Nuevas plataformas como PS4 mostraron crecimiento en los últimos años del dataset, mientras que otras como X360 y PS3 se encontraban en declive.\n",
    "\n",
    "Análisis por plataforma. \n",
    "\n",
    "PS4, XOne y 3DS dominaron las ventas en el período más reciente.\n",
    "\n",
    "Algunas plataformas, como PC, mostraron calificaciones de usuarios altas, aunque con un volumen de ventas moderado.\n",
    "\n",
    "Preferencias por región.\n",
    "\n",
    "Norteamérica favorece juegos de acción, deportes y shooters, con preferencia por plataformas de Microsoft y Sony.\n",
    "\n",
    "Europa tiene una distribución similar a NA, pero con aún mayor fuerza de PlayStation y juegos deportivos.\n",
    "\n",
    "Japón es un mercado único, dominado por RPGs, plataformas y consolas portátiles como 3DS y PSP. Las plataformas occidentales como Xbox tienen muy baja participación aquí.\n",
    "\n",
    "Calificaciones (ESRB).\n",
    "\n",
    "Los juegos con clasificación E (Everyone) lideran las ventas globales.\n",
    "\n",
    "Los juegos Mature (M) se venden bien en NA y EU, pero tienen baja aceptación en Japón.\n",
    "\n",
    "Influencia de las reseñas.\n",
    "\n",
    "Las reseñas de críticos tienen una correlación moderadamente positiva con las ventas (0.41), lo que sugiere que influyen en el comportamiento de compra.\n",
    "\n",
    "Comparaciones específicas.\n",
    "\n",
    "Las calificaciones promedio de usuarios fueron significativamente más altas en PC que en Xbox One, según el análisis estadístico realizado (prueba t).\n",
    "\n",
    "Se encontraron diferencias de calificación también entre géneros: los juegos de acción fueron ligeramente mejor valorados que los de deportes."
   ]
  }
 ],
 "metadata": {
  "kernelspec": {
   "display_name": "base",
   "language": "python",
   "name": "python3"
  },
  "language_info": {
   "codemirror_mode": {
    "name": "ipython",
    "version": 3
   },
   "file_extension": ".py",
   "mimetype": "text/x-python",
   "name": "python",
   "nbconvert_exporter": "python",
   "pygments_lexer": "ipython3",
   "version": "3.11.7"
  }
 },
 "nbformat": 4,
 "nbformat_minor": 4
}
