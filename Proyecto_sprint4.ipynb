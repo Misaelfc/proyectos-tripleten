{
 "cells": [
  {
   "cell_type": "markdown",
   "id": "3Xg_RQfnafXz",
   "metadata": {
    "id": "3Xg_RQfnafXz"
   },
   "source": [
    "# ¡Llena ese carrito!"
   ]
  },
  {
   "cell_type": "markdown",
   "id": "mhIvmmkW414q",
   "metadata": {
    "id": "mhIvmmkW414q"
   },
   "source": [
    "# Introducción\n",
    "\n",
    "Instacart es una plataforma de entregas de comestibles donde la clientela puede registrar un pedido y hacer que se lo entreguen, similar a Uber Eats y Door Dash.\n",
    "El conjunto de datos que te hemos proporcionado tiene modificaciones del original. Redujimos el tamaño del conjunto para que tus cálculos se hicieran más rápido e introdujimos valores ausentes y duplicados. Tuvimos cuidado de conservar las distribuciones de los datos originales cuando hicimos los cambios.\n",
    "\n",
    "Debes completar tres pasos. Para cada uno de ellos, escribe una breve introducción que refleje con claridad cómo pretendes resolver cada paso, y escribe párrafos explicatorios que justifiquen tus decisiones al tiempo que avanzas en tu solución.  También escribe una conclusión que resuma tus hallazgos y elecciones.\n"
   ]
  },
  {
   "cell_type": "markdown",
   "id": "3MbyzpOQZ5Or",
   "metadata": {
    "id": "3MbyzpOQZ5Or"
   },
   "source": [
    "## Diccionario de datos\n",
    "\n",
    "Hay cinco tablas en el conjunto de datos, y tendrás que usarlas todas para hacer el preprocesamiento de datos y el análisis exploratorio de datos. A continuación se muestra un diccionario de datos que enumera las columnas de cada tabla y describe los datos que contienen.\n",
    "\n",
    "- `instacart_orders.csv`: cada fila corresponde a un pedido en la aplicación Instacart.\n",
    "    - `'order_id'`: número de ID que identifica de manera única cada pedido.\n",
    "    - `'user_id'`: número de ID que identifica de manera única la cuenta de cada cliente.\n",
    "    - `'order_number'`: el número de veces que este cliente ha hecho un pedido.\n",
    "    - `'order_dow'`: día de la semana en que se hizo el pedido (0 si es domingo).\n",
    "    - `'order_hour_of_day'`: hora del día en que se hizo el pedido.\n",
    "    - `'days_since_prior_order'`: número de días transcurridos desde que este cliente hizo su pedido anterior.\n",
    "- `products.csv`: cada fila corresponde a un producto único que pueden comprar los clientes.\n",
    "    - `'product_id'`: número ID que identifica de manera única cada producto.\n",
    "    - `'product_name'`: nombre del producto.\n",
    "    - `'aisle_id'`: número ID que identifica de manera única cada categoría de pasillo de víveres.\n",
    "    - `'department_id'`: número ID que identifica de manera única cada departamento de víveres.\n",
    "- `order_products.csv`: cada fila corresponde a un artículo pedido en un pedido.\n",
    "    - `'order_id'`: número de ID que identifica de manera única cada pedido.\n",
    "    - `'product_id'`: número ID que identifica de manera única cada producto.\n",
    "    - `'add_to_cart_order'`: el orden secuencial en el que se añadió cada artículo en el carrito.\n",
    "    - `'reordered'`: 0 si el cliente nunca ha pedido este producto antes, 1 si lo ha pedido.\n",
    "- `aisles.csv`\n",
    "    - `'aisle_id'`: número ID que identifica de manera única cada categoría de pasillo de víveres.\n",
    "    - `'aisle'`: nombre del pasillo.\n",
    "- `departments.csv`\n",
    "    - `'department_id'`: número ID que identifica de manera única cada departamento de víveres.\n",
    "    - `'department'`: nombre del departamento."
   ]
  },
  {
   "cell_type": "markdown",
   "id": "n3Ha_cNSZ8lK",
   "metadata": {
    "id": "n3Ha_cNSZ8lK"
   },
   "source": [
    "# Paso 1. Descripción de los datos\n",
    "\n",
    "Lee los archivos de datos (`/datasets/instacart_orders.csv`, `/datasets/products.csv`, `/datasets/aisles.csv`, `/datasets/departments.csv` y `/datasets/order_products.csv`) con `pd.read_csv()` usando los parámetros adecuados para leer los datos correctamente. Verifica la información para cada DataFrame creado.\n"
   ]
  },
  {
   "cell_type": "markdown",
   "id": "OmlQPLlyaAfR",
   "metadata": {
    "id": "OmlQPLlyaAfR"
   },
   "source": [
    "## Plan de solución\n",
    "\n",
    "Escribe aquí tu plan de solución para el Paso 1. Descripción de los datos."
   ]
  },
  {
   "cell_type": "code",
   "execution_count": 394,
   "id": "fbf1adab",
   "metadata": {
    "id": "fbf1adab"
   },
   "outputs": [],
   "source": [
    "# importar librerías\n",
    "import pandas as pd\n",
    "import numpy as np\n",
    "import matplotlib.pyplot as plt"
   ]
  },
  {
   "cell_type": "code",
   "execution_count": 395,
   "id": "ad36396d",
   "metadata": {
    "id": "ad36396d"
   },
   "outputs": [],
   "source": [
    "# leer conjuntos de datos en los DataFrames\n",
    "orders_df = pd.read_csv('instacart_orders.csv', sep=';')\n",
    "products_df = pd.read_csv('products.csv', sep=';')\n",
    "aisles_df = pd.read_csv('aisles.csv', sep=';')\n",
    "departments_df = pd.read_csv('departments.csv', sep=';')\n",
    "order_products_df = pd.read_csv('order_products.csv', sep=';')"
   ]
  },
  {
   "cell_type": "code",
   "execution_count": 396,
   "id": "ad6a1efa",
   "metadata": {
    "id": "ad6a1efa"
   },
   "outputs": [
    {
     "name": "stdout",
     "output_type": "stream",
     "text": [
      "<class 'pandas.core.frame.DataFrame'>\n",
      "RangeIndex: 478967 entries, 0 to 478966\n",
      "Data columns (total 6 columns):\n",
      " #   Column                  Non-Null Count   Dtype  \n",
      "---  ------                  --------------   -----  \n",
      " 0   order_id                478967 non-null  int64  \n",
      " 1   user_id                 478967 non-null  int64  \n",
      " 2   order_number            478967 non-null  int64  \n",
      " 3   order_dow               478967 non-null  int64  \n",
      " 4   order_hour_of_day       478967 non-null  int64  \n",
      " 5   days_since_prior_order  450148 non-null  float64\n",
      "dtypes: float64(1), int64(5)\n",
      "memory usage: 21.9 MB\n"
     ]
    }
   ],
   "source": [
    "# mostrar información del DataFrame\n",
    "orders_df.info()"
   ]
  },
  {
   "cell_type": "code",
   "execution_count": 397,
   "id": "5130e05e",
   "metadata": {
    "id": "5130e05e"
   },
   "outputs": [
    {
     "name": "stdout",
     "output_type": "stream",
     "text": [
      "<class 'pandas.core.frame.DataFrame'>\n",
      "RangeIndex: 49694 entries, 0 to 49693\n",
      "Data columns (total 4 columns):\n",
      " #   Column         Non-Null Count  Dtype \n",
      "---  ------         --------------  ----- \n",
      " 0   product_id     49694 non-null  int64 \n",
      " 1   product_name   48436 non-null  object\n",
      " 2   aisle_id       49694 non-null  int64 \n",
      " 3   department_id  49694 non-null  int64 \n",
      "dtypes: int64(3), object(1)\n",
      "memory usage: 1.5+ MB\n"
     ]
    }
   ],
   "source": [
    "# mostrar información del DataFrame\n",
    "products_df.info()"
   ]
  },
  {
   "cell_type": "code",
   "execution_count": 398,
   "id": "d8370c05",
   "metadata": {
    "id": "d8370c05"
   },
   "outputs": [
    {
     "name": "stdout",
     "output_type": "stream",
     "text": [
      "<class 'pandas.core.frame.DataFrame'>\n",
      "RangeIndex: 134 entries, 0 to 133\n",
      "Data columns (total 2 columns):\n",
      " #   Column    Non-Null Count  Dtype \n",
      "---  ------    --------------  ----- \n",
      " 0   aisle_id  134 non-null    int64 \n",
      " 1   aisle     134 non-null    object\n",
      "dtypes: int64(1), object(1)\n",
      "memory usage: 2.2+ KB\n"
     ]
    }
   ],
   "source": [
    "# mostrar información del DataFrame\n",
    "aisles_df.info()"
   ]
  },
  {
   "cell_type": "code",
   "execution_count": 399,
   "id": "59e2090f",
   "metadata": {
    "id": "59e2090f"
   },
   "outputs": [
    {
     "name": "stdout",
     "output_type": "stream",
     "text": [
      "<class 'pandas.core.frame.DataFrame'>\n",
      "RangeIndex: 21 entries, 0 to 20\n",
      "Data columns (total 2 columns):\n",
      " #   Column         Non-Null Count  Dtype \n",
      "---  ------         --------------  ----- \n",
      " 0   department_id  21 non-null     int64 \n",
      " 1   department     21 non-null     object\n",
      "dtypes: int64(1), object(1)\n",
      "memory usage: 468.0+ bytes\n"
     ]
    }
   ],
   "source": [
    "# mostrar información del DataFrame\n",
    "departments_df.info()"
   ]
  },
  {
   "cell_type": "code",
   "execution_count": 400,
   "id": "6fc81694",
   "metadata": {
    "id": "6fc81694"
   },
   "outputs": [
    {
     "name": "stdout",
     "output_type": "stream",
     "text": [
      "<class 'pandas.core.frame.DataFrame'>\n",
      "RangeIndex: 4545007 entries, 0 to 4545006\n",
      "Data columns (total 4 columns):\n",
      " #   Column             Non-Null Count    Dtype  \n",
      "---  ------             --------------    -----  \n",
      " 0   order_id           4545007 non-null  int64  \n",
      " 1   product_id         4545007 non-null  int64  \n",
      " 2   add_to_cart_order  4544171 non-null  float64\n",
      " 3   reordered          4545007 non-null  int64  \n",
      "dtypes: float64(1), int64(3)\n",
      "memory usage: 138.7 MB\n"
     ]
    }
   ],
   "source": [
    "# mostrar información del DataFrame\n",
    "order_products_df.info(show_counts=True)"
   ]
  },
  {
   "cell_type": "markdown",
   "id": "t75BD19oaR5f",
   "metadata": {
    "id": "t75BD19oaR5f"
   },
   "source": [
    "## Conclusiones\n",
    "\n",
    "Escribe aquí tus conclusiones intermedias sobre el Paso 1. Descripción de los datos.\n",
    "\n",
    "Empezamos descargando los archivos y dejarlos en la carpeta donde tenemos la carpeta principal de proyectos.\n",
    "Importamos las librerias para hacer más rápido el proceso y así poder leer el conjunto de datos de cada archivo.\n",
    "Por último vemos la información de cada archivo para saber los datos requeridos\n"
   ]
  },
  {
   "cell_type": "markdown",
   "id": "8RJHqxVmaVsF",
   "metadata": {
    "id": "8RJHqxVmaVsF"
   },
   "source": [
    "# Paso 2. Preprocesamiento de los datos\n",
    "\n",
    "Preprocesa los datos de la siguiente manera:\n",
    "\n",
    "- Verifica y corrige los tipos de datos (por ejemplo, asegúrate de que las columnas de ID sean números enteros).\n",
    "- Identifica y completa los valores ausentes.\n",
    "- Identifica y elimina los valores duplicados.\n",
    "\n",
    "Asegúrate de explicar qué tipos de valores ausentes y duplicados encontraste, cómo los completaste o eliminaste y por qué usaste esos métodos. ¿Por qué crees que estos valores ausentes y duplicados pueden haber estado presentes en el conjunto de datos?"
   ]
  },
  {
   "cell_type": "markdown",
   "id": "p6poABZQaZYb",
   "metadata": {
    "id": "p6poABZQaZYb"
   },
   "source": [
    "## Plan de solución\n",
    "\n",
    "Escribe aquí tu plan para el Paso 2. Preprocesamiento de los datos.\n",
    "\n",
    "Primero vamos a corregir los tipos de datos, principalmente que las columnas ID sean int\n",
    "\n",
    "Identificaremos los valores ausentes utilizando la función isna() y contandolos con sum()\n",
    "\n",
    "Eliminaremos los valores duplicados con la función dropna()"
   ]
  },
  {
   "cell_type": "markdown",
   "id": "07357848-dc64-4156-9cc3-01ff4365226d",
   "metadata": {
    "id": "07357848-dc64-4156-9cc3-01ff4365226d"
   },
   "source": [
    "## Encuentra y elimina los valores duplicados (y describe cómo tomaste tus decisiones)."
   ]
  },
  {
   "cell_type": "markdown",
   "id": "f179f0a9",
   "metadata": {
    "id": "f179f0a9"
   },
   "source": [
    "### `orders` data frame"
   ]
  },
  {
   "cell_type": "code",
   "execution_count": 401,
   "id": "b99297a5-405a-463d-8535-9adc3da4ad74",
   "metadata": {
    "id": "b99297a5-405a-463d-8535-9adc3da4ad74"
   },
   "outputs": [
    {
     "name": "stdout",
     "output_type": "stream",
     "text": [
      "0         False\n",
      "1         False\n",
      "2         False\n",
      "3         False\n",
      "4         False\n",
      "          ...  \n",
      "478962    False\n",
      "478963    False\n",
      "478964    False\n",
      "478965    False\n",
      "478966    False\n",
      "Length: 478967, dtype: bool\n",
      "15\n"
     ]
    }
   ],
   "source": [
    "# Revisa si hay pedidos duplicados\n",
    "duplicados = orders_df.duplicated()\n",
    "print(duplicados)\n",
    "print(duplicados.sum())\n"
   ]
  },
  {
   "cell_type": "markdown",
   "id": "PEkwUX_gvt5A",
   "metadata": {
    "id": "PEkwUX_gvt5A"
   },
   "source": [
    "¿Tienes líneas duplicadas? Si sí, ¿qué tienen en común?\n",
    "\n",
    "Si hay pedidos duplicados, tenemos en total 15 pedidos duplicados"
   ]
  },
  {
   "cell_type": "code",
   "execution_count": 402,
   "id": "0d44de5d",
   "metadata": {
    "id": "0d44de5d"
   },
   "outputs": [
    {
     "name": "stdout",
     "output_type": "stream",
     "text": [
      "        order_id  user_id  order_number  order_dow  order_hour_of_day  \\\n",
      "4838     2766110   162084            41          3                  2   \n",
      "5156     2190225   138285            18          3                  2   \n",
      "15506     553049    58599            13          3                  2   \n",
      "18420     382357   120200            19          3                  2   \n",
      "24691     690242    77357             2          3                  2   \n",
      "...          ...      ...           ...        ...                ...   \n",
      "457013   3384021    14881             6          3                  2   \n",
      "458816    910166   164782            18          3                  2   \n",
      "459635   1680532   106435             6          3                  2   \n",
      "468324    222962    54979            59          3                  2   \n",
      "477526   2592344    46860            38          3                  2   \n",
      "\n",
      "        days_since_prior_order  \n",
      "4838                      16.0  \n",
      "5156                      11.0  \n",
      "15506                      7.0  \n",
      "18420                     11.0  \n",
      "24691                      9.0  \n",
      "...                        ...  \n",
      "457013                    30.0  \n",
      "458816                     4.0  \n",
      "459635                    21.0  \n",
      "468324                     3.0  \n",
      "477526                     3.0  \n",
      "\n",
      "[121 rows x 6 columns]\n"
     ]
    }
   ],
   "source": [
    "# Basándote en tus hallazgos,\n",
    "# Verifica todos los pedidos que se hicieron el miércoles a las 2:00 a.m.\n",
    "pedidos_miercoles_2am = orders_df[(orders_df['order_hour_of_day'] == 2) & (orders_df['order_dow'] == 3)]\n",
    "print(pedidos_miercoles_2am)\n"
   ]
  },
  {
   "cell_type": "markdown",
   "id": "vu2OWyoqwOx5",
   "metadata": {
    "id": "vu2OWyoqwOx5"
   },
   "source": [
    "¿Qué sugiere este resultado?\n",
    "\n",
    "Estas son todas las filas de orders_df donde:\n",
    "\n",
    "order_dow == 3(osea, Miércoles) y order_hour_of_day == 2(Se hizo a las 2:00 AM)"
   ]
  },
  {
   "cell_type": "code",
   "execution_count": 403,
   "id": "480563c7",
   "metadata": {
    "id": "480563c7"
   },
   "outputs": [],
   "source": [
    "# Elimina los pedidos duplicados\n",
    "orders_df = orders_df.drop_duplicates()"
   ]
  },
  {
   "cell_type": "code",
   "execution_count": 404,
   "id": "0b2396a2",
   "metadata": {
    "id": "0b2396a2"
   },
   "outputs": [
    {
     "name": "stdout",
     "output_type": "stream",
     "text": [
      "0         False\n",
      "1         False\n",
      "2         False\n",
      "3         False\n",
      "4         False\n",
      "          ...  \n",
      "478962    False\n",
      "478963    False\n",
      "478964    False\n",
      "478965    False\n",
      "478966    False\n",
      "Length: 478952, dtype: bool\n",
      "0\n"
     ]
    }
   ],
   "source": [
    "# Vuelve a verificar si hay filas duplicadas\n",
    "print(orders_df.duplicated())\n",
    "print(orders_df.duplicated().sum())\n"
   ]
  },
  {
   "cell_type": "code",
   "execution_count": 405,
   "id": "f6113ef1",
   "metadata": {
    "id": "f6113ef1"
   },
   "outputs": [
    {
     "name": "stdout",
     "output_type": "stream",
     "text": [
      "0         False\n",
      "1         False\n",
      "2         False\n",
      "3         False\n",
      "4         False\n",
      "          ...  \n",
      "478962    False\n",
      "478963    False\n",
      "478964    False\n",
      "478965    False\n",
      "478966    False\n",
      "Name: order_id, Length: 478952, dtype: bool\n"
     ]
    }
   ],
   "source": [
    "# Vuelve a verificar únicamente si hay IDs duplicados de pedidos\n",
    "print(orders_df['order_id'].duplicated())"
   ]
  },
  {
   "cell_type": "markdown",
   "id": "5e8905ae",
   "metadata": {
    "id": "5e8905ae"
   },
   "source": [
    "Describe brevemente tus hallazgos y lo que hiciste con ellos\n",
    "\n",
    "Si soy honesto tuve problemas para hallar el order_dow porque me salía como error, entonces decidí imprimir las columnas y me aparecían las columnas separadas con ;, entonces modifiqué el archivo al leerlo y le puse sep=';'\n",
    "Con eso solucioné el error y realicé el pedido del miercoles a las 2 AM como pueden ver en los bloques anteriores.\n",
    "\n",
    "Eliminé los duplicados tanto de orders_df como de order_df['order_id'] y el resultado fué el mismo."
   ]
  },
  {
   "cell_type": "markdown",
   "id": "45e6bc46",
   "metadata": {
    "id": "45e6bc46"
   },
   "source": [
    "### `products` data frame"
   ]
  },
  {
   "cell_type": "code",
   "execution_count": 406,
   "id": "5f526b5b-8175-46fa-a0fd-441767d50e64",
   "metadata": {
    "id": "5f526b5b-8175-46fa-a0fd-441767d50e64"
   },
   "outputs": [
    {
     "name": "stdout",
     "output_type": "stream",
     "text": [
      "0\n"
     ]
    }
   ],
   "source": [
    "# Verifica si hay filas totalmente duplicadas\n",
    "print(products_df.duplicated().sum())"
   ]
  },
  {
   "cell_type": "code",
   "execution_count": 407,
   "id": "88daa4f4",
   "metadata": {
    "id": "88daa4f4"
   },
   "outputs": [
    {
     "name": "stdout",
     "output_type": "stream",
     "text": [
      "0        False\n",
      "1        False\n",
      "2        False\n",
      "3        False\n",
      "4        False\n",
      "         ...  \n",
      "49689    False\n",
      "49690    False\n",
      "49691    False\n",
      "49692    False\n",
      "49693    False\n",
      "Name: product_id, Length: 49694, dtype: bool\n",
      "0\n"
     ]
    }
   ],
   "source": [
    "# Revisa únicamente si hay ID de productos duplicados\n",
    "print(products_df['product_id'].duplicated())\n",
    "print(products_df['product_id'].duplicated().sum())\n"
   ]
  },
  {
   "cell_type": "code",
   "execution_count": 408,
   "id": "c773f0bf",
   "metadata": {
    "id": "c773f0bf"
   },
   "outputs": [
    {
     "name": "stdout",
     "output_type": "stream",
     "text": [
      "0        False\n",
      "1        False\n",
      "2        False\n",
      "3        False\n",
      "4        False\n",
      "         ...  \n",
      "49689     True\n",
      "49690     True\n",
      "49691     True\n",
      "49692     True\n",
      "49693     True\n",
      "Name: product_name, Length: 49694, dtype: bool\n",
      "1361\n"
     ]
    }
   ],
   "source": [
    "# Revisa únicamente si hay nombres duplicados de productos (convierte los nombres a letras mayúsculas para compararlos mejor)\n",
    "uppercase_product_names = products_df['product_name'].str.upper()\n",
    "print(uppercase_product_names.duplicated())\n",
    "print(uppercase_product_names.duplicated().sum())"
   ]
  },
  {
   "cell_type": "code",
   "execution_count": 409,
   "id": "01efd02e",
   "metadata": {
    "id": "01efd02e"
   },
   "outputs": [
    {
     "name": "stdout",
     "output_type": "stream",
     "text": [
      "0        False\n",
      "1         True\n",
      "2         True\n",
      "3         True\n",
      "4         True\n",
      "         ...  \n",
      "49689     True\n",
      "49690     True\n",
      "49691     True\n",
      "49692     True\n",
      "49693     True\n",
      "Name: product_name, Length: 49694, dtype: bool\n",
      "49692\n"
     ]
    }
   ],
   "source": [
    "# Revisa si hay nombres duplicados de productos no faltantes\n",
    "print(products_df['product_name'].notna().duplicated())\n",
    "print(products_df['product_name'].notna().duplicated().sum())\n"
   ]
  },
  {
   "cell_type": "markdown",
   "id": "9da8d293",
   "metadata": {
    "id": "9da8d293"
   },
   "source": [
    "Describe brevemente tus hallazgos y lo que hiciste con ellos.\n",
    "\n",
    "El DataFrame de products contiene 49,694 filas con 4 columnas: product_id, product_name, aisle_id y department_id.\n",
    "\n",
    "La columna product_name tiene algunos valores faltantes (NaN) con 1361, mientras que las demás columnas están completas."
   ]
  },
  {
   "cell_type": "markdown",
   "id": "60f30db1",
   "metadata": {
    "id": "60f30db1"
   },
   "source": [
    "### `departments` data frame"
   ]
  },
  {
   "cell_type": "code",
   "execution_count": 410,
   "id": "fb410ad4-0fbf-4b80-bb09-23fdea79afe3",
   "metadata": {
    "id": "fb410ad4-0fbf-4b80-bb09-23fdea79afe3"
   },
   "outputs": [
    {
     "name": "stdout",
     "output_type": "stream",
     "text": [
      "0     False\n",
      "1     False\n",
      "2     False\n",
      "3     False\n",
      "4     False\n",
      "5     False\n",
      "6     False\n",
      "7     False\n",
      "8     False\n",
      "9     False\n",
      "10    False\n",
      "11    False\n",
      "12    False\n",
      "13    False\n",
      "14    False\n",
      "15    False\n",
      "16    False\n",
      "17    False\n",
      "18    False\n",
      "19    False\n",
      "20    False\n",
      "dtype: bool\n",
      "0\n"
     ]
    }
   ],
   "source": [
    "# Revisa si hay filas totalmente duplicadas\n",
    "print(departments_df.duplicated())\n",
    "print(departments_df.duplicated().sum())"
   ]
  },
  {
   "cell_type": "code",
   "execution_count": 411,
   "id": "332b12bb",
   "metadata": {
    "id": "332b12bb"
   },
   "outputs": [
    {
     "name": "stdout",
     "output_type": "stream",
     "text": [
      "0     False\n",
      "1     False\n",
      "2     False\n",
      "3     False\n",
      "4     False\n",
      "5     False\n",
      "6     False\n",
      "7     False\n",
      "8     False\n",
      "9     False\n",
      "10    False\n",
      "11    False\n",
      "12    False\n",
      "13    False\n",
      "14    False\n",
      "15    False\n",
      "16    False\n",
      "17    False\n",
      "18    False\n",
      "19    False\n",
      "20    False\n",
      "Name: department_id, dtype: bool\n",
      "0\n"
     ]
    }
   ],
   "source": [
    "# Revisa únicamente si hay IDs duplicadas de departamentos\n",
    "print(departments_df['department_id'].duplicated())\n",
    "print(departments_df['department_id'].duplicated().sum())"
   ]
  },
  {
   "cell_type": "markdown",
   "id": "bd30d78e",
   "metadata": {
    "id": "bd30d78e"
   },
   "source": [
    "Describe brevemente tus hallazgos y lo que hiciste con ellos."
   ]
  },
  {
   "cell_type": "markdown",
   "id": "889349c1",
   "metadata": {
    "id": "889349c1"
   },
   "source": [
    "### `aisles` data frame"
   ]
  },
  {
   "cell_type": "code",
   "execution_count": 412,
   "id": "9da89fb9-4679-40f5-ad0d-c34df753a3f8",
   "metadata": {
    "id": "9da89fb9-4679-40f5-ad0d-c34df753a3f8"
   },
   "outputs": [
    {
     "name": "stdout",
     "output_type": "stream",
     "text": [
      "0      False\n",
      "1      False\n",
      "2      False\n",
      "3      False\n",
      "4      False\n",
      "       ...  \n",
      "129    False\n",
      "130    False\n",
      "131    False\n",
      "132    False\n",
      "133    False\n",
      "Length: 134, dtype: bool\n",
      "0\n"
     ]
    }
   ],
   "source": [
    "# Revisa si hay filas totalmente duplicadas\n",
    "print(aisles_df.duplicated())\n",
    "print(aisles_df.duplicated().sum())\n"
   ]
  },
  {
   "cell_type": "code",
   "execution_count": 413,
   "id": "da7c2822",
   "metadata": {
    "id": "da7c2822"
   },
   "outputs": [
    {
     "name": "stdout",
     "output_type": "stream",
     "text": [
      "0      False\n",
      "1      False\n",
      "2      False\n",
      "3      False\n",
      "4      False\n",
      "       ...  \n",
      "129    False\n",
      "130    False\n",
      "131    False\n",
      "132    False\n",
      "133    False\n",
      "Name: aisle_id, Length: 134, dtype: bool\n",
      "0\n"
     ]
    }
   ],
   "source": [
    "# Revisa únicamente si hay IDs duplicadas de pasillos\n",
    "print(aisles_df['aisle_id'].duplicated())\n",
    "print(aisles_df['aisle_id'].duplicated().sum())"
   ]
  },
  {
   "cell_type": "markdown",
   "id": "ac63826f",
   "metadata": {
    "id": "ac63826f"
   },
   "source": [
    "Describe brevemente tus hallazgos y lo que hiciste con ellos.\n",
    "\n",
    "El DataFrame aisles_df no contiene registros duplicados completos, lo que sugiere que cada combinación de valores (por ejemplo, aisle_id y aisle) es única. Esto es una buena señal de calidad de datos y estructura bien normalizada."
   ]
  },
  {
   "cell_type": "markdown",
   "id": "274cd06a",
   "metadata": {
    "id": "274cd06a"
   },
   "source": [
    "### `order_products` data frame"
   ]
  },
  {
   "cell_type": "code",
   "execution_count": 414,
   "id": "52326689-84a8-4b8f-a881-7c68780f62c9",
   "metadata": {
    "id": "52326689-84a8-4b8f-a881-7c68780f62c9"
   },
   "outputs": [
    {
     "name": "stdout",
     "output_type": "stream",
     "text": [
      "0          False\n",
      "1          False\n",
      "2          False\n",
      "3          False\n",
      "4          False\n",
      "           ...  \n",
      "4545002    False\n",
      "4545003    False\n",
      "4545004    False\n",
      "4545005    False\n",
      "4545006    False\n",
      "Length: 4545007, dtype: bool\n",
      "0\n"
     ]
    }
   ],
   "source": [
    "# Revisa si hay filas totalmente duplicadas\n",
    "print(order_products_df.duplicated())\n",
    "print(order_products_df.duplicated().sum())\n"
   ]
  },
  {
   "cell_type": "code",
   "execution_count": 415,
   "id": "7b861391",
   "metadata": {
    "id": "7b861391"
   },
   "outputs": [
    {
     "name": "stdout",
     "output_type": "stream",
     "text": [
      "0          False\n",
      "1          False\n",
      "2          False\n",
      "3          False\n",
      "4          False\n",
      "           ...  \n",
      "4545002    False\n",
      "4545003    False\n",
      "4545004    False\n",
      "4545005    False\n",
      "4545006    False\n",
      "Length: 4545007, dtype: bool\n",
      "0\n"
     ]
    }
   ],
   "source": [
    "# Vuelve a verificar si hay cualquier otro duplicado engañoso\n",
    "print(order_products_df.duplicated(subset=['order_id', 'product_id']))\n",
    "print(order_products_df.duplicated(subset=['order_id', 'product_id']).sum())\n"
   ]
  },
  {
   "cell_type": "markdown",
   "id": "0b890492",
   "metadata": {
    "id": "0b890492"
   },
   "source": [
    "Describe brevemente tus hallazgos y lo que hiciste con ellos.\n",
    "\n",
    "El DataFrame de order_products no tiene filas duplicadas.\n",
    "\n",
    "Para verificar si hubo otra fila duplicada engañosa utilicé las columnas order_id y product_id y no tiene filas duplicadas"
   ]
  },
  {
   "cell_type": "markdown",
   "id": "1e46de76",
   "metadata": {
    "id": "1e46de76"
   },
   "source": [
    "## Encuentra y elimina los valores ausentes\n",
    "\n",
    "Al trabajar con valores duplicados, pudimos observar que también nos falta investigar valores ausentes:\n",
    "\n",
    "* La columna `'product_name'` de la tabla products.\n",
    "* La columna `'days_since_prior_order'` de la tabla orders.\n",
    "* La columna `'add_to_cart_order'` de la tabla order_productos."
   ]
  },
  {
   "cell_type": "markdown",
   "id": "c0aebd78",
   "metadata": {
    "id": "c0aebd78"
   },
   "source": [
    "### `products` data frame"
   ]
  },
  {
   "cell_type": "code",
   "execution_count": 416,
   "id": "fe4a8b0f",
   "metadata": {
    "id": "fe4a8b0f"
   },
   "outputs": [
    {
     "name": "stdout",
     "output_type": "stream",
     "text": [
      "0        False\n",
      "1        False\n",
      "2        False\n",
      "3        False\n",
      "4        False\n",
      "         ...  \n",
      "49689    False\n",
      "49690    False\n",
      "49691    False\n",
      "49692    False\n",
      "49693    False\n",
      "Name: product_name, Length: 49694, dtype: bool\n",
      "1258\n"
     ]
    }
   ],
   "source": [
    "# Encuentra los valores ausentes en la columna 'product_name'\n",
    "print(products_df['product_name'].isna())\n",
    "print(products_df['product_name'].isna().sum())"
   ]
  },
  {
   "cell_type": "markdown",
   "id": "-A6x1AbJhjkp",
   "metadata": {
    "id": "-A6x1AbJhjkp"
   },
   "source": [
    "Describe brevemente cuáles son tus hallazgos.\n",
    "\n",
    "Al aplicar .isna() y .sum(), encontré que la columna 'product_name' contiene 1,258 valores faltantes (NaN) de un total de 49,694 filas."
   ]
  },
  {
   "cell_type": "code",
   "execution_count": 417,
   "id": "e96167bc",
   "metadata": {
    "id": "e96167bc"
   },
   "outputs": [
    {
     "name": "stdout",
     "output_type": "stream",
     "text": [
      "[100]\n"
     ]
    }
   ],
   "source": [
    "#  ¿Todos los nombres de productos ausentes están relacionados con el pasillo con ID 100?\n",
    "productos_sin_nombre = products_df[products_df['product_name'].isna()]\n",
    "pasillos_unicos = productos_sin_nombre['aisle_id'].unique()\n",
    "print(pasillos_unicos)"
   ]
  },
  {
   "cell_type": "markdown",
   "id": "WRpIfXRphpSL",
   "metadata": {
    "id": "WRpIfXRphpSL"
   },
   "source": [
    "Describe brevemente cuáles son tus hallazgos.\n",
    "\n",
    "Si .unique() devuelve solo [100], eso confirma que todos los productos sin nombre pertenecen solo a ese pasillo."
   ]
  },
  {
   "cell_type": "code",
   "execution_count": 418,
   "id": "8fd0a541",
   "metadata": {
    "id": "8fd0a541"
   },
   "outputs": [
    {
     "name": "stdout",
     "output_type": "stream",
     "text": [
      "[21]\n"
     ]
    }
   ],
   "source": [
    "# ¿Todos los nombres de productos ausentes están relacionados con el departamento con ID 21?\n",
    "productos_sin_nombre_departamento = products_df[products_df['product_name'].isna()]\n",
    "departamentos_unicos = productos_sin_nombre_departamento['department_id'].unique()\n",
    "print(departamentos_unicos)\n"
   ]
  },
  {
   "cell_type": "markdown",
   "id": "qDpdYn1Fht_I",
   "metadata": {
    "id": "qDpdYn1Fht_I"
   },
   "source": [
    "Describe brevemente cuáles son tus hallazgos.\n",
    "\n",
    "Si .unique() devuelve solo [21], eso confirma que todos los productos sin nombre pertenecen solo a ese departamento."
   ]
  },
  {
   "cell_type": "code",
   "execution_count": 419,
   "id": "325c3464",
   "metadata": {
    "id": "325c3464"
   },
   "outputs": [
    {
     "name": "stdout",
     "output_type": "stream",
     "text": [
      "    aisle_id    aisle\n",
      "99       100  missing\n",
      "    department_id department\n",
      "20             21    missing\n"
     ]
    }
   ],
   "source": [
    "# Usa las tablas department y aisle para revisar los datos del pasillo con ID 100 y el departamento con ID 21.\n",
    "pasillo_100 = aisles_df[aisles_df['aisle_id'] == 100]\n",
    "print(pasillo_100)\n",
    "departamento_21 = departments_df[departments_df['department_id'] == 21]\n",
    "print(departamento_21)\n"
   ]
  },
  {
   "cell_type": "markdown",
   "id": "nqhSTUPhhvEJ",
   "metadata": {
    "id": "nqhSTUPhhvEJ"
   },
   "source": [
    "Describe brevemente cuáles son tus hallazgos.\n",
    "aisle_id = 100\n",
    "Su nombre es \"missing\", lo que sugiere que este pasillo agrupa productos con información incompleta o desconocida.\n",
    "department_id = 21\n",
    "Su nombre también es \"missing\", indicando que estos productos pertenecen a un departamento sin categoría definida."
   ]
  },
  {
   "cell_type": "code",
   "execution_count": 420,
   "id": "6b295120",
   "metadata": {
    "id": "6b295120"
   },
   "outputs": [
    {
     "name": "stdout",
     "output_type": "stream",
     "text": [
      "0                               Chocolate Sandwich Cookies\n",
      "1                                         All-Seasons Salt\n",
      "2                     Robust Golden Unsweetened Oolong Tea\n",
      "3        Smart Ones Classic Favorites Mini Rigatoni Wit...\n",
      "4                                Green Chile Anytime Sauce\n",
      "                               ...                        \n",
      "49689                        HIGH PERFORMANCE ENERGY DRINK\n",
      "49690                        ORIGINAL PANCAKE & WAFFLE MIX\n",
      "49691      ORGANIC INSTANT OATMEAL LIGHT MAPLE BROWN SUGAR\n",
      "49692                               SPRING WATER BODY WASH\n",
      "49693                              BURRITO- STEAK & CHEESE\n",
      "Name: product_name, Length: 49694, dtype: object\n"
     ]
    }
   ],
   "source": [
    "# Completa los nombres de productos ausentes con 'Unknown'\n",
    "products_df['product_name'].fillna('Unknown', inplace=True)\n",
    "print(products_df['product_name'])"
   ]
  },
  {
   "cell_type": "markdown",
   "id": "fc70e5ad",
   "metadata": {
    "id": "fc70e5ad"
   },
   "source": [
    "Describe brevemente tus hallazgos y lo que hiciste con ellos.\n",
    "\n",
    "Simplemente utilizamos el método fillna('Uknown') para rellenar los valores ausentes"
   ]
  },
  {
   "cell_type": "markdown",
   "id": "7eb45c86",
   "metadata": {
    "id": "7eb45c86"
   },
   "source": [
    "### `orders` data frame"
   ]
  },
  {
   "cell_type": "code",
   "execution_count": 421,
   "id": "93e41d96",
   "metadata": {
    "id": "93e41d96"
   },
   "outputs": [
    {
     "name": "stdout",
     "output_type": "stream",
     "text": [
      "        order_id  user_id  order_number  order_dow  order_hour_of_day  \\\n",
      "0          False    False         False      False              False   \n",
      "1          False    False         False      False              False   \n",
      "2          False    False         False      False              False   \n",
      "3          False    False         False      False              False   \n",
      "4          False    False         False      False              False   \n",
      "...          ...      ...           ...        ...                ...   \n",
      "478962     False    False         False      False              False   \n",
      "478963     False    False         False      False              False   \n",
      "478964     False    False         False      False              False   \n",
      "478965     False    False         False      False              False   \n",
      "478966     False    False         False      False              False   \n",
      "\n",
      "        days_since_prior_order  \n",
      "0                        False  \n",
      "1                        False  \n",
      "2                        False  \n",
      "3                        False  \n",
      "4                        False  \n",
      "...                        ...  \n",
      "478962                   False  \n",
      "478963                   False  \n",
      "478964                   False  \n",
      "478965                   False  \n",
      "478966                   False  \n",
      "\n",
      "[478952 rows x 6 columns]\n",
      "order_id                      0\n",
      "user_id                       0\n",
      "order_number                  0\n",
      "order_dow                     0\n",
      "order_hour_of_day             0\n",
      "days_since_prior_order    28817\n",
      "dtype: int64\n"
     ]
    }
   ],
   "source": [
    "# Encuentra los valores ausentes\n",
    "print(orders_df.isna())\n",
    "print(orders_df.isna().sum())"
   ]
  },
  {
   "cell_type": "code",
   "execution_count": 422,
   "id": "166e5a86",
   "metadata": {
    "id": "166e5a86"
   },
   "outputs": [
    {
     "name": "stdout",
     "output_type": "stream",
     "text": [
      "        order_id  user_id  order_number  order_dow  order_hour_of_day  \\\n",
      "28         False    False         False      False              False   \n",
      "96         False    False         False      False              False   \n",
      "100        False    False         False      False              False   \n",
      "103        False    False         False      False              False   \n",
      "104        False    False         False      False              False   \n",
      "...          ...      ...           ...        ...                ...   \n",
      "478895     False    False         False      False              False   \n",
      "478896     False    False         False      False              False   \n",
      "478922     False    False         False      False              False   \n",
      "478926     False    False         False      False              False   \n",
      "478945     False    False         False      False              False   \n",
      "\n",
      "        days_since_prior_order  \n",
      "28                        True  \n",
      "96                        True  \n",
      "100                       True  \n",
      "103                       True  \n",
      "104                       True  \n",
      "...                        ...  \n",
      "478895                    True  \n",
      "478896                    True  \n",
      "478922                    True  \n",
      "478926                    True  \n",
      "478945                    True  \n",
      "\n",
      "[28817 rows x 6 columns]\n"
     ]
    }
   ],
   "source": [
    "# ¿Hay algún valor ausente que no sea el primer pedido del cliente?\n",
    "primer_pedido = orders_df[orders_df['order_number'] == 1]\n",
    "print(primer_pedido.isna())\n"
   ]
  },
  {
   "cell_type": "markdown",
   "id": "4e23d089",
   "metadata": {
    "id": "4e23d089"
   },
   "source": [
    "Describe brevemente tus hallazgos y lo que hiciste con ellos.\n",
    "\n",
    "Todos los NaN están en pedidos con order_number == 1, es decir, el primer pedido del cliente.\n",
    "\n",
    "Esta columna indica cuántos días pasaron desde el pedido anterior del cliente. Por lo tanto:\n",
    "\n",
    "Es normal que esté vacío (NaN) para el primer pedido de cada usuario, ya que no hay pedido anterior para calcular esa diferencia."
   ]
  },
  {
   "cell_type": "markdown",
   "id": "69dc9ca4",
   "metadata": {
    "id": "69dc9ca4"
   },
   "source": [
    "### `order_products` data frame"
   ]
  },
  {
   "cell_type": "code",
   "execution_count": 423,
   "id": "b8240253",
   "metadata": {
    "id": "b8240253"
   },
   "outputs": [
    {
     "name": "stdout",
     "output_type": "stream",
     "text": [
      "         order_id  product_id  add_to_cart_order  reordered\n",
      "0           False       False              False      False\n",
      "1           False       False              False      False\n",
      "2           False       False              False      False\n",
      "3           False       False              False      False\n",
      "4           False       False              False      False\n",
      "...           ...         ...                ...        ...\n",
      "4545002     False       False              False      False\n",
      "4545003     False       False              False      False\n",
      "4545004     False       False              False      False\n",
      "4545005     False       False              False      False\n",
      "4545006     False       False              False      False\n",
      "\n",
      "[4545007 rows x 4 columns]\n",
      "order_id               0\n",
      "product_id             0\n",
      "add_to_cart_order    836\n",
      "reordered              0\n",
      "dtype: int64\n"
     ]
    }
   ],
   "source": [
    "# Encuentra los valores ausentes\n",
    "print(order_products_df.isna())\n",
    "print(order_products_df.isna().sum())"
   ]
  },
  {
   "cell_type": "code",
   "execution_count": 424,
   "id": "9a78e5ee",
   "metadata": {
    "id": "9a78e5ee"
   },
   "outputs": [
    {
     "name": "stdout",
     "output_type": "stream",
     "text": [
      "1.0\n",
      "64.0\n"
     ]
    }
   ],
   "source": [
    "# ¿Cuáles son los valores mínimos y máximos en esta columna?\n",
    "print(order_products_df['add_to_cart_order'].min())\n",
    "print(order_products_df['add_to_cart_order'].max())\n"
   ]
  },
  {
   "cell_type": "markdown",
   "id": "-Z2Ja215jW78",
   "metadata": {
    "id": "-Z2Ja215jW78"
   },
   "source": [
    "Describe brevemente cuáles son tus hallazgos.\n",
    "\n",
    "La columna add_to_cart_order tiene 836 valores faltantes (NaN).\n",
    "\n",
    "Rango de add_to_cart_order:\n",
    "Mínimo: 1.0\n",
    "Máximo: 64.0\n",
    "\n",
    "Esto indica que hay pedidos con hasta 64 productos distintos, y esta columna registra el orden en que se agregó cada producto al carrito."
   ]
  },
  {
   "cell_type": "code",
   "execution_count": 425,
   "id": "ab9d0c2b",
   "metadata": {
    "id": "ab9d0c2b"
   },
   "outputs": [
    {
     "name": "stdout",
     "output_type": "stream",
     "text": [
      "737        2449164\n",
      "9926       1968313\n",
      "14394      2926893\n",
      "16418      1717990\n",
      "30114      1959075\n",
      "            ...   \n",
      "4505662    1800005\n",
      "4511400    1633337\n",
      "4517562     404157\n",
      "4534112    1673227\n",
      "4535739    1832957\n",
      "Name: order_id, Length: 836, dtype: int64\n"
     ]
    }
   ],
   "source": [
    "# Guarda todas las IDs de pedidos que tengan un valor ausente en 'add_to_cart_order'\n",
    "print(order_products_df[order_products_df['add_to_cart_order'].isna()]['order_id'])"
   ]
  },
  {
   "cell_type": "code",
   "execution_count": 426,
   "id": "54c31695",
   "metadata": {
    "id": "54c31695"
   },
   "outputs": [
    {
     "name": "stdout",
     "output_type": "stream",
     "text": [
      "order_id\n",
      "9310        1\n",
      "61355      63\n",
      "102236     31\n",
      "129627      5\n",
      "165801      6\n",
      "           ..\n",
      "2999801     6\n",
      "3125735    22\n",
      "3308010    51\n",
      "3347453     7\n",
      "3383594     5\n",
      "Name: product_id, Length: 70, dtype: int64\n"
     ]
    }
   ],
   "source": [
    "# ¿Todos los pedidos con valores ausentes tienen más de 64 productos?\n",
    "# No. El resultado muestra que varios pedidos con NaN en add_to_cart_order tienen menos de 64 \n",
    "# Agrupa todos los pedidos con datos ausentes por su ID de pedido.\n",
    "order_products_missing = order_products_df[order_products_df['add_to_cart_order'].isna()]\n",
    "# Cuenta el número de 'product_id' en cada pedido y revisa el valor mínimo del conteo.\n",
    "missing_grouped = order_products_missing.groupby('order_id')['product_id'].count()\n",
    "print(missing_grouped)\n"
   ]
  },
  {
   "cell_type": "markdown",
   "id": "p9V6pddtjglj",
   "metadata": {
    "id": "p9V6pddtjglj"
   },
   "source": [
    "Describe brevemente cuáles son tus hallazgos.\n",
    "\n",
    "No todos los pedidos con valores ausentes tienen más de 64 productos.\n",
    "Al contrario, los datos ausentes se presentan en pedidos de diferentes tamaños, desde 1 hasta más de 60 productos. Esto descarta que el problema esté directamente relacionado con un límite como 64"
   ]
  },
  {
   "cell_type": "code",
   "execution_count": 427,
   "id": "7a987d08",
   "metadata": {
    "id": "7a987d08"
   },
   "outputs": [
    {
     "name": "stdout",
     "output_type": "stream",
     "text": [
      "0          17\n",
      "1           1\n",
      "2           1\n",
      "3          35\n",
      "4           5\n",
      "           ..\n",
      "4545002    12\n",
      "4545003     9\n",
      "4545004     4\n",
      "4545005     8\n",
      "4545006     9\n",
      "Name: add_to_cart_order, Length: 4545007, dtype: int64\n"
     ]
    }
   ],
   "source": [
    "# Remplaza los valores ausentes en la columna 'add_to_cart? con 999 y convierte la columna al tipo entero.\n",
    "order_products_df['add_to_cart_order'].fillna(999, inplace=True)\n",
    "order_products_df['add_to_cart_order'] = order_products_df['add_to_cart_order'].astype(int)\n",
    "print(order_products_df['add_to_cart_order'])\n"
   ]
  },
  {
   "cell_type": "markdown",
   "id": "fea4bcc7",
   "metadata": {
    "id": "fea4bcc7"
   },
   "source": [
    "Describe brevemente tus hallazgos y lo que hiciste con ellos.\n",
    "\n",
    "Reemplazé los valores faltantes en add_to_cart_order con el número 999.\n",
    "\n",
    "Convertí la columna de float a int, ya que ya no contenía NaN"
   ]
  },
  {
   "cell_type": "markdown",
   "id": "RnplPFY1gSrb",
   "metadata": {
    "id": "RnplPFY1gSrb"
   },
   "source": [
    "## Conclusiones\n",
    "\n",
    "Escribe aquí tus conclusiones intermedias sobre el Paso 2. Preprocesamiento de los datos\n",
    "\n",
    "Se identificaron 836 valores ausentes (NaN) en la columna add_to_cart_order, que indica el orden en que los productos fueron agregados al carrito.\n",
    "\n",
    "Esos valores estaban repartidos en 70 pedidos distintos, con cantidades variables de productos por pedido (desde 1 hasta 63).\n",
    "\n",
    "El valor máximo en esa columna para los pedidos completos era 64, pero los pedidos con datos faltantes no necesariamente tenían más de 64 productos.\n"
   ]
  },
  {
   "cell_type": "markdown",
   "id": "UjrOIwTcz3ri",
   "metadata": {
    "id": "UjrOIwTcz3ri"
   },
   "source": [
    "# Paso 3. Análisis de los datos\n",
    "\n",
    "Una vez los datos estén procesados y listos, haz el siguiente análisis:"
   ]
  },
  {
   "cell_type": "markdown",
   "id": "turkish-kidney",
   "metadata": {
    "id": "turkish-kidney"
   },
   "source": [
    "# [A] Fácil (deben completarse todos para aprobar)\n",
    "\n",
    "1. Verifica que los valores en las columnas `'order_hour_of_day'` y `'order_dow'` en la tabla orders sean razonables (es decir, `'order_hour_of_day'` oscile entre 0 y 23 y `'order_dow'` oscile entre 0 y 6).\n",
    "2. Crea un gráfico que muestre el número de personas que hacen pedidos dependiendo de la hora del día.\n",
    "3. Crea un gráfico que muestre qué día de la semana la gente hace sus compras.\n",
    "4. Crea un gráfico que muestre el tiempo que la gente espera hasta hacer su siguiente pedido, y comenta sobre los valores mínimos y máximos."
   ]
  },
  {
   "cell_type": "markdown",
   "id": "short-capability",
   "metadata": {
    "id": "short-capability"
   },
   "source": [
    "### [A1] Verifica que los valores sean sensibles"
   ]
  },
  {
   "cell_type": "code",
   "execution_count": 428,
   "id": "growing-fruit",
   "metadata": {
    "id": "growing-fruit"
   },
   "outputs": [
    {
     "name": "stdout",
     "output_type": "stream",
     "text": [
      "[0, 1, 2, 3, 4, 5, 6, 7, 8, 9, 10, 11, 12, 13, 14, 15, 16, 17, 18, 19, 20, 21, 22, 23]\n"
     ]
    }
   ],
   "source": [
    "print(sorted(orders_df['order_hour_of_day'].unique()))"
   ]
  },
  {
   "cell_type": "code",
   "execution_count": 429,
   "id": "accessory-malaysia",
   "metadata": {
    "id": "accessory-malaysia"
   },
   "outputs": [
    {
     "name": "stdout",
     "output_type": "stream",
     "text": [
      "[0, 1, 2, 3, 4, 5, 6]\n"
     ]
    }
   ],
   "source": [
    "print(sorted(orders_df['order_dow'].unique()))"
   ]
  },
  {
   "cell_type": "markdown",
   "id": "hmR2GNQ6lCsX",
   "metadata": {
    "id": "hmR2GNQ6lCsX"
   },
   "source": [
    "Escribe aquí tus conclusiones"
   ]
  },
  {
   "cell_type": "markdown",
   "id": "a6743a70",
   "metadata": {
    "id": "a6743a70"
   },
   "source": [
    "### [A2] Para cada hora del día, ¿cuántas personas hacen órdenes?"
   ]
  },
  {
   "cell_type": "code",
   "execution_count": 430,
   "id": "a36cca27",
   "metadata": {
    "id": "a36cca27"
   },
   "outputs": [
    {
     "data": {
      "image/png": "[encoded data removed]",
      "text/plain": [
       "<Figure size 1000x600 with 1 Axes>"
      ]
     },
     "metadata": {},
     "output_type": "display_data"
    }
   ],
   "source": [
    "pedidos_por_hora = orders_df['order_hour_of_day'].value_counts().sort_index()\n",
    "pedidos_por_hora.plot(kind='bar', title='Número de pedidos por hora del día',figsize=(10, 6), xlabel='Hora del día', ylabel='Número de pedidos')\n",
    "plt.show()"
   ]
  },
  {
   "cell_type": "markdown",
   "id": "11270eed",
   "metadata": {
    "id": "11270eed"
   },
   "source": [
    "Escribe aquí tus conclusiones\n",
    "\n",
    "Pico de actividad entre las 9:00 a.m. y 16:00 (4:00 p.m.):\n",
    "\n",
    "Las horas con mayor número de pedidos se encuentran entre las 9:00 a.m. y las 4:00 p.m.\n",
    "\n",
    "El punto más alto está alrededor de las 10:00 a.m., con más de 40,000 pedidos en esa hora.\n",
    "\n",
    "Las horas de la madrugada (0 a 6) tienen una actividad mínima, lo que sugiere que pocos usuarios compran a esas horas, probablemente por estar dormidos.\n"
   ]
  },
  {
   "cell_type": "markdown",
   "id": "documented-command",
   "metadata": {
    "id": "documented-command"
   },
   "source": [
    "### [A3] ¿Qué día de la semana compran víveres las personas?"
   ]
  },
  {
   "cell_type": "code",
   "execution_count": 431,
   "id": "chief-digit",
   "metadata": {
    "id": "chief-digit"
   },
   "outputs": [
    {
     "data": {
      "image/png": "[encoded data removed]",
      "text/plain": [
       "<Figure size 1000x600 with 1 Axes>"
      ]
     },
     "metadata": {},
     "output_type": "display_data"
    }
   ],
   "source": [
    "pedidos_por_dia = orders_df['order_dow'].value_counts().sort_index()\n",
    "pedidos_por_dia.plot(kind='bar', title='Número de pedidos por día de la semana', figsize=(10, 6), xlabel='Día de la semana (0 = Domingo, 6 = Sábado)', ylabel='Número de pedidos')\n",
    "plt.show()\n"
   ]
  },
  {
   "cell_type": "markdown",
   "id": "dominant-lightning",
   "metadata": {
    "id": "dominant-lightning"
   },
   "source": [
    "Escribe aquí tus conclusiones\n",
    "\n",
    "Los días 0 (domingo) y 1 (lunes) tienen la mayor cantidad de pedidos.\n",
    "\n",
    "Esto sugiere que mucha gente hace sus compras al final o inicio de la semana.\n",
    "\n",
    "Hay una caída notable en el número de pedidos desde el martes (2) hasta el jueves (4).\n",
    "\n",
    "Los días 5 (viernes) y 6 (sábado) muestran un ligero aumento respecto al miércoles o jueves, pero no llegan a los niveles de domingo o lunes."
   ]
  },
  {
   "cell_type": "markdown",
   "id": "cutting-concert",
   "metadata": {
    "id": "cutting-concert"
   },
   "source": [
    "### [A4] ¿Cuánto tiempo esperan las personas hasta hacer otro pedido? Comenta sobre los valores mínimos y máximos."
   ]
  },
  {
   "cell_type": "code",
   "execution_count": 432,
   "id": "c231f523",
   "metadata": {
    "id": "c231f523"
   },
   "outputs": [
    {
     "name": "stdout",
     "output_type": "stream",
     "text": [
      "0.0\n",
      "30.0\n"
     ]
    },
    {
     "data": {
      "image/png": "[encoded data removed]",
      "text/plain": [
       "<Figure size 1000x600 with 1 Axes>"
      ]
     },
     "metadata": {},
     "output_type": "display_data"
    }
   ],
   "source": [
    "print(orders_df['days_since_prior_order'].min())\n",
    "print(orders_df['days_since_prior_order'].max())\n",
    "dias_espera = orders_df['days_since_prior_order'].dropna()\n",
    "dias_espera.plot(kind='hist', bins=30, title='Días entre pedidos', figsize=(10, 6), xlabel='Días desde el último pedido', ylabel='Número de pedidos')\n",
    "plt.show()"
   ]
  },
  {
   "cell_type": "markdown",
   "id": "discrete-vertex",
   "metadata": {
    "id": "discrete-vertex"
   },
   "source": [
    "Escribe aquí tus conclusiones\n",
    "\n",
    "El pico más alto del histograma está en 30 días, lo cual indica que muchos usuarios hacen compras mensuales.\n",
    "\n",
    "Esto puede deberse a patrones de pago (quincenal/mensual), reposición de despensa o suscripciones.\n",
    "\n",
    "Hay picos importantes entre 5 y 8 días, especialmente en el día 7, lo que indica que muchos usuarios compran semanalmente, probablemente los mismos días."
   ]
  },
  {
   "cell_type": "markdown",
   "id": "tight-staff",
   "metadata": {
    "id": "tight-staff"
   },
   "source": [
    "# [B] Intermedio (deben completarse todos para aprobar)\n",
    "\n",
    "1. ¿Existe alguna diferencia entre las distribuciones `'order_hour_of_day'` de los miércoles y los sábados? Traza gráficos de barra de `'order_hour_of_day'` para ambos días en la misma figura y describe las diferencias que observes.\n",
    "2. Grafica la distribución para el número de órdenes que hacen los clientes (es decir, cuántos clientes hicieron solo 1 pedido, cuántos hicieron 2, cuántos 3, y así sucesivamente...).\n",
    "3. ¿Cuáles son los 20 principales productos que se piden con más frecuencia (muestra su identificación y nombre)?"
   ]
  },
  {
   "cell_type": "markdown",
   "id": "packed-classic",
   "metadata": {
    "id": "packed-classic"
   },
   "source": [
    "### [B1] Diferencia entre miércoles y sábados para  `'order_hour_of_day'`. Traza gráficos de barra para los dos días y describe las diferencias que veas."
   ]
  },
  {
   "cell_type": "code",
   "execution_count": 433,
   "id": "d89b8403",
   "metadata": {
    "id": "d89b8403"
   },
   "outputs": [
    {
     "data": {
      "image/png": "[encoded data removed]",
      "text/plain": [
       "<Figure size 1000x600 with 1 Axes>"
      ]
     },
     "metadata": {},
     "output_type": "display_data"
    }
   ],
   "source": [
    "# 1. ¿Existe alguna diferencia entre las distribuciones `'order_hour_of_day'` de los miércoles y los sábados? Traza gráficos de barra de `'order_hour_of_day'` para ambos días en la misma figura y describe las diferencias que observes.\n",
    "miercoles = orders_df[orders_df['order_dow'] == 3]\n",
    "pedidos_miercoles =miercoles['order_hour_of_day'].value_counts().sort_index()\n",
    "pedidos_miercoles.plot(kind='bar', title='Pedidos del miércoles por hora', figsize=(10, 6), xlabel='Hora del día', ylabel='Número de pedidos')\n",
    "plt.show()\n"
   ]
  },
  {
   "cell_type": "code",
   "execution_count": 434,
   "id": "94e54e8a",
   "metadata": {
    "id": "94e54e8a"
   },
   "outputs": [
    {
     "data": {
      "image/png": "[encoded data removed]",
      "text/plain": [
       "<Figure size 1000x600 with 1 Axes>"
      ]
     },
     "metadata": {},
     "output_type": "display_data"
    }
   ],
   "source": [
    "sabado = orders_df[orders_df['order_dow'] == 6]\n",
    "pedidos_sabado = sabado['order_hour_of_day'].value_counts().sort_index()\n",
    "pedidos_sabado.plot(kind='bar', title='Pedidos del sábado por hora', figsize=(10, 6), xlabel='Hora del día', ylabel='Número de pedidos')\n",
    "plt.show()\n"
   ]
  },
  {
   "cell_type": "markdown",
   "id": "charitable-congo",
   "metadata": {
    "id": "charitable-congo"
   },
   "source": [
    "Escribe aquí tus conclusiones\n",
    "\n",
    "Miércoles: tiene una concentración más marcada, especialmente en la mañana, lo que sugiere que los usuarios hacen pedidos dentro de horarios laborales o de oficina, en especial entre las 9 am hasta las 16 hrs.\n",
    "\n",
    "Sábado: muestra una distribución más dispersa durante todo el día. Hay más pedidos en la tarde, lo que sugiere mayor disponibilidad de tiempo (día no laboral para muchos). El pico más alto de ventas empieza desde las 9 am hasta las 17 hrs."
   ]
  },
  {
   "cell_type": "markdown",
   "id": "e3891143",
   "metadata": {
    "id": "e3891143"
   },
   "source": [
    "### [B2] ¿Cuál es la distribución para el número de pedidos por cliente?"
   ]
  },
  {
   "cell_type": "code",
   "execution_count": 435,
   "id": "d8c26c23",
   "metadata": {
    "id": "d8c26c23"
   },
   "outputs": [
    {
     "data": {
      "image/png": "[encoded data removed]",
      "text/plain": [
       "<Figure size 1000x600 with 1 Axes>"
      ]
     },
     "metadata": {},
     "output_type": "display_data"
    }
   ],
   "source": [
    "# 2. Grafica la distribución para el número de órdenes que hacen los clientes (es decir, cuántos clientes hicieron solo 1 pedido, cuántos hicieron 2, cuántos 3, y así sucesivamente...).\n",
    "pedidos_por_cliente = orders_df['user_id'].value_counts()\n",
    "distribucion_pedidos = pedidos_por_cliente.value_counts().sort_index()\n",
    "distribucion_pedidos.plot(kind='bar', title='Distribución de pedidos por cliente', figsize=(10, 6), xlabel='Número de pedidos por cliente', ylabel='Número de clientes')\n",
    "plt.show()"
   ]
  },
  {
   "cell_type": "markdown",
   "id": "d2eff7d5",
   "metadata": {
    "id": "d2eff7d5"
   },
   "source": [
    "Escribe aquí tus conclusiones\n",
    "\n",
    "En la Distribución de pedidos por cliente, muchos clientes han hecho solo 1 pedido, lo que podría indicar que probaron el servicio una vez y de ahí va bajando. También se nota que hay un grupo fiel de clientes llegando hasta la cantidad de 17 pedidos."
   ]
  },
  {
   "cell_type": "markdown",
   "id": "54a0319c",
   "metadata": {
    "id": "54a0319c"
   },
   "source": [
    "### [B3] ¿Cuáles son los 20 productos más populares (muestra su ID y nombre)?"
   ]
  },
  {
   "cell_type": "code",
   "execution_count": 436,
   "id": "exterior-arizona",
   "metadata": {
    "id": "exterior-arizona",
    "scrolled": true
   },
   "outputs": [
    {
     "name": "stdout",
     "output_type": "stream",
     "text": [
      "    product_id  cantidad_pedidos              product_name\n",
      "0        24852             66050                    Banana\n",
      "1        13176             53297    Bag of Organic Bananas\n",
      "2        21137             37039      Organic Strawberries\n",
      "3        21903             33971      Organic Baby Spinach\n",
      "4        47209             29773      Organic Hass Avocado\n",
      "5        47766             24689           Organic Avocado\n",
      "6        47626             21495               Large Lemon\n",
      "7        16797             20018              Strawberries\n",
      "8        26209             19690                     Limes\n",
      "9        27845             19600        Organic Whole Milk\n",
      "10       27966             19197       Organic Raspberries\n",
      "11       22935             15898      Organic Yellow Onion\n",
      "12       24964             15292            Organic Garlic\n",
      "13       45007             14584          Organic Zucchini\n",
      "14       39275             13879       Organic Blueberries\n",
      "15       49683             13675            Cucumber Kirby\n",
      "16       28204             12544        Organic Fuji Apple\n",
      "17        5876             12232             Organic Lemon\n",
      "18        8277             11993  Apple Honeycrisp Organic\n",
      "19       40706             11781    Organic Grape Tomatoes\n"
     ]
    }
   ],
   "source": [
    "#3. ¿Cuáles son los 20 principales productos que se piden con más frecuencia (muestra su identificación y nombre)?\n",
    "top_productos = order_products_df['product_id'].value_counts().head(20)\n",
    "top_productos_df = top_productos.reset_index()\n",
    "top_productos_df.columns = ['product_id', 'cantidad_pedidos']\n",
    "top_productos_con_nombres = top_productos_df.merge(products_df[['product_id', 'product_name']], on='product_id', how='left')\n",
    "print(top_productos_con_nombres)"
   ]
  },
  {
   "cell_type": "markdown",
   "id": "7df00f47",
   "metadata": {
    "id": "7df00f47"
   },
   "source": [
    "Escribe aquí tus conclusiones\n",
    "\n",
    "En los 20 productos más frecuentes los más pedidos son alimentos básicos, como bananas, fresas orgánicas, aguacates, etc. Los clientes usan la plataforma de Instacart para compras de supermercado."
   ]
  },
  {
   "cell_type": "markdown",
   "id": "gross-theme",
   "metadata": {
    "id": "gross-theme"
   },
   "source": [
    "# [C] Difícil (deben completarse todos para aprobar)\n",
    "\n",
    "1. ¿Cuántos artículos suelen comprar las personas en un pedido? ¿Cómo es la distribución?\n",
    "2. ¿Cuáles son los 20 principales artículos que vuelven a pedirse con mayor frecuencia (muestra sus nombres e IDs de los productos)?\n",
    "3. Para cada producto, ¿cuál es la tasa de repetición del pedido (número de repeticiones de pedido/total de pedidos?\n",
    "4. Para cada cliente, ¿qué proporción de los productos que pidió ya los había pedido? Calcula la tasa de repetición de pedido para cada usuario en lugar de para cada producto.\n",
    "5. ¿Cuáles son los 20 principales artículos que la gente pone primero en sus carritos (muestra las IDs de los productos, sus nombres, y el número de veces en que fueron el primer artículo en añadirse al carrito)?"
   ]
  },
  {
   "cell_type": "markdown",
   "id": "romantic-deposit",
   "metadata": {
    "id": "romantic-deposit"
   },
   "source": [
    "### [C1] ¿Cuántos artículos compran normalmente las personas en un pedido? ¿Cómo es la distribución?"
   ]
  },
  {
   "cell_type": "code",
   "execution_count": 437,
   "id": "virtual-punch",
   "metadata": {
    "id": "virtual-punch"
   },
   "outputs": [],
   "source": [
    "productos_por_pedido = order_products_df.groupby('order_id')['product_id'].count()"
   ]
  },
  {
   "cell_type": "code",
   "execution_count": 438,
   "id": "sensitive-breathing",
   "metadata": {
    "id": "sensitive-breathing"
   },
   "outputs": [
    {
     "name": "stdout",
     "output_type": "stream",
     "text": [
      "count    450046.000000\n",
      "mean         10.098983\n",
      "std           7.540206\n",
      "min           1.000000\n",
      "25%           5.000000\n",
      "50%           8.000000\n",
      "75%          14.000000\n",
      "max         127.000000\n",
      "Name: product_id, dtype: float64\n"
     ]
    }
   ],
   "source": [
    "print(productos_por_pedido.describe())"
   ]
  },
  {
   "cell_type": "code",
   "execution_count": 439,
   "id": "completed-frank",
   "metadata": {
    "id": "completed-frank"
   },
   "outputs": [
    {
     "data": {
      "image/png": "[encoded data removed]",
      "text/plain": [
       "<Figure size 1000x600 with 1 Axes>"
      ]
     },
     "metadata": {},
     "output_type": "display_data"
    }
   ],
   "source": [
    "productos_por_pedido.plot(kind='hist', bins=50, title='Número de productos por pedido', figsize=(10, 6), xlabel='Número de productos por pedido', ylabel='Número de pedidos')\n",
    "plt.show()"
   ]
  },
  {
   "cell_type": "markdown",
   "id": "designed-mortality",
   "metadata": {
    "id": "designed-mortality"
   },
   "source": [
    "Escribe aquí tus conclusiones\n",
    "\n",
    "Por la gráfica representa cuantos artículos compran las personas por pedido, el número de productos por pedido el pico más alto está entre 1 a 15 productos por pedidos ya que el máximo es de 127 mil pedidos."
   ]
  },
  {
   "cell_type": "markdown",
   "id": "5e6b5537",
   "metadata": {
    "id": "5e6b5537"
   },
   "source": [
    "### [C2] ¿Cuáles son los 20 principales artículos que vuelven a pedirse con mayor frecuencia (muestra sus nombres e IDs de los productos)?"
   ]
  },
  {
   "cell_type": "code",
   "execution_count": 440,
   "id": "9374e55a",
   "metadata": {
    "id": "9374e55a"
   },
   "outputs": [],
   "source": [
    "productos_reordenados = order_products_df[order_products_df['reordered'] == 1]\n"
   ]
  },
  {
   "cell_type": "code",
   "execution_count": 441,
   "id": "possible-change",
   "metadata": {
    "id": "possible-change",
    "scrolled": true
   },
   "outputs": [],
   "source": [
    "top_reordenados = productos_reordenados['product_id'].value_counts().head(20)"
   ]
  },
  {
   "cell_type": "code",
   "execution_count": 442,
   "id": "professional-surfing",
   "metadata": {
    "id": "professional-surfing",
    "scrolled": true
   },
   "outputs": [],
   "source": [
    "top_reordenados_df = top_reordenados.reset_index()\n",
    "top_reordenados_df.columns = ['product_id', 'veces_reordenado']"
   ]
  },
  {
   "cell_type": "code",
   "execution_count": 443,
   "id": "48dd3658",
   "metadata": {
    "id": "48dd3658"
   },
   "outputs": [
    {
     "name": "stdout",
     "output_type": "stream",
     "text": [
      "    product_id  veces_reordenado              product_name\n",
      "0        24852             55763                    Banana\n",
      "1        13176             44450    Bag of Organic Bananas\n",
      "2        21137             28639      Organic Strawberries\n",
      "3        21903             26233      Organic Baby Spinach\n",
      "4        47209             23629      Organic Hass Avocado\n",
      "5        47766             18743           Organic Avocado\n",
      "6        27845             16251        Organic Whole Milk\n",
      "7        47626             15044               Large Lemon\n",
      "8        27966             14748       Organic Raspberries\n",
      "9        16797             13945              Strawberries\n",
      "10       26209             13327                     Limes\n",
      "11       22935             11145      Organic Yellow Onion\n",
      "12       24964             10411            Organic Garlic\n",
      "13       45007             10076          Organic Zucchini\n",
      "14       49683              9538            Cucumber Kirby\n",
      "15       28204              8989        Organic Fuji Apple\n",
      "16        8277              8836  Apple Honeycrisp Organic\n",
      "17       39275              8799       Organic Blueberries\n",
      "18        5876              8412             Organic Lemon\n",
      "19       49235              8389       Organic Half & Half\n"
     ]
    }
   ],
   "source": [
    "top_reordenados_df = top_reordenados_df.merge(products_df[['product_id', 'product_name']], on='product_id', how='left')\n",
    "print(top_reordenados_df)"
   ]
  },
  {
   "cell_type": "markdown",
   "id": "80e70c74",
   "metadata": {
    "id": "80e70c74"
   },
   "source": [
    "Escribe aquí tus conclusiones\n",
    "\n",
    "Frutas y verduras frescas como bananas, fresas, aguacates, limones, manzanas y cebollas aparecen constantemente en la lista.\n",
    "\n",
    "La mayoria de los productos tienen la palabra Organic.\n",
    "\n",
    "El rango de productos más reordenados estan entre 8000 y más de 50000 como la banana, hay mucha fidelidad de clientes en estos productos."
   ]
  },
  {
   "cell_type": "markdown",
   "id": "9d312b14",
   "metadata": {
    "id": "9d312b14"
   },
   "source": [
    "### [C3] Para cada producto, ¿cuál es la proporción de las veces que se pide y que se vuelve a pedir?"
   ]
  },
  {
   "cell_type": "code",
   "execution_count": 444,
   "id": "8ae9f4b1",
   "metadata": {
    "id": "8ae9f4b1"
   },
   "outputs": [],
   "source": [
    "total_pedidos = order_products_df.groupby('product_id')['reordered'].count()"
   ]
  },
  {
   "cell_type": "code",
   "execution_count": 445,
   "id": "103e7fe1",
   "metadata": {
    "id": "103e7fe1"
   },
   "outputs": [],
   "source": [
    "total_reordenados = order_products_df.groupby('product_id')['reordered'].sum()"
   ]
  },
  {
   "cell_type": "code",
   "execution_count": 446,
   "id": "social-individual",
   "metadata": {
    "id": "social-individual"
   },
   "outputs": [
    {
     "name": "stdout",
     "output_type": "stream",
     "text": [
      "       product_id  proporcion_reordenado\n",
      "0               1               0.564286\n",
      "1               2               0.000000\n",
      "2               3               0.738095\n",
      "3               4               0.510204\n",
      "4               7               0.500000\n",
      "...           ...                    ...\n",
      "45568       49690               0.800000\n",
      "45569       49691               0.430556\n",
      "45570       49692               0.416667\n",
      "45571       49693               0.440000\n",
      "45572       49694               0.333333\n",
      "\n",
      "[45573 rows x 2 columns]\n"
     ]
    }
   ],
   "source": [
    "proporcion_reordenado = (total_reordenados / total_pedidos).reset_index()\n",
    "proporcion_reordenado.columns = ['product_id', 'proporcion_reordenado']\n",
    "print(proporcion_reordenado)"
   ]
  },
  {
   "cell_type": "markdown",
   "id": "I10dEIAyldcO",
   "metadata": {
    "id": "I10dEIAyldcO"
   },
   "source": [
    "Escribe aquí tus conclusiones\n",
    "\n",
    "Productos con proporciones como 0.8, 0.9, incluso 1.0, significan que casi siempre que se compran, se vuelven a comprar.\n",
    "\n",
    "product_id = 2 tiene 0.0, lo que significa que nunca ha sido reordenado. Podría ser porque es un producto que no ha sido reordenado, no gustó el producto"
   ]
  },
  {
   "cell_type": "markdown",
   "id": "subject-boxing",
   "metadata": {
    "id": "subject-boxing"
   },
   "source": [
    "### [C4] Para cada cliente, ¿qué proporción de sus productos ya los había pedido?"
   ]
  },
  {
   "cell_type": "code",
   "execution_count": 447,
   "id": "medical-couple",
   "metadata": {
    "id": "medical-couple",
    "scrolled": true
   },
   "outputs": [],
   "source": [
    "merged_df = order_products_df.merge(orders_df[['order_id', 'user_id']], on='order_id', how='left')\n",
    "total_por_usuario = merged_df.groupby('user_id')['product_id'].count()"
   ]
  },
  {
   "cell_type": "code",
   "execution_count": 448,
   "id": "8892e4b4",
   "metadata": {
    "id": "8892e4b4"
   },
   "outputs": [
    {
     "name": "stdout",
     "output_type": "stream",
     "text": [
      "        user_id  proporcion_reordenado\n",
      "0             2               0.038462\n",
      "1             4               0.000000\n",
      "2             5               0.666667\n",
      "3             6               0.000000\n",
      "4             7               0.928571\n",
      "...         ...                    ...\n",
      "149621   206203               0.222222\n",
      "149622   206206               0.714286\n",
      "149623   206207               0.891304\n",
      "149624   206208               0.696000\n",
      "149625   206209               0.320000\n",
      "\n",
      "[149626 rows x 2 columns]\n"
     ]
    }
   ],
   "source": [
    "reordenados_por_usuario = merged_df[merged_df['reordered'] == 1].groupby('user_id')['product_id'].count()\n",
    "proporcion_usuario = (reordenados_por_usuario / total_por_usuario).fillna(0).reset_index()\n",
    "proporcion_usuario.columns = ['user_id', 'proporcion_reordenado']\n",
    "print(proporcion_usuario)"
   ]
  },
  {
   "cell_type": "markdown",
   "id": "BgJSvXDsleXz",
   "metadata": {
    "id": "BgJSvXDsleXz"
   },
   "source": [
    "Escribe aquí tus conclusiones\n",
    "\n",
    "Hay usuarios con proporciones cercanas a 0, como el user_id = 4 o user_id = 6, lo cual sugiere que compran productos nuevos o diferentes casi siempre.\n",
    "\n",
    "Otros como user_id = 7 o user_id = 206207 tienen una proporción muy alta 0.9, lo que indica que casi siempre compran productos que ya conocen.\n",
    "\n"
   ]
  },
  {
   "cell_type": "markdown",
   "id": "92d35137",
   "metadata": {
    "id": "92d35137"
   },
   "source": [
    "### [C5] ¿Cuáles son los 20 principales artículos que las personas ponen primero en sus carritos?"
   ]
  },
  {
   "cell_type": "code",
   "execution_count": 449,
   "id": "0ae57274",
   "metadata": {
    "id": "0ae57274",
    "scrolled": true
   },
   "outputs": [],
   "source": [
    "primeros_productos = order_products_df[order_products_df['add_to_cart_order'] == 1]"
   ]
  },
  {
   "cell_type": "code",
   "execution_count": 450,
   "id": "forty-netherlands",
   "metadata": {
    "id": "forty-netherlands",
    "scrolled": true
   },
   "outputs": [],
   "source": [
    "primeros_contados = primeros_productos['product_id'].value_counts().head(20).reset_index()\n",
    "primeros_contados.columns = ['product_id', 'veces_agregado_primero']"
   ]
  },
  {
   "cell_type": "code",
   "execution_count": 451,
   "id": "08e41ec2",
   "metadata": {
    "id": "08e41ec2"
   },
   "outputs": [
    {
     "name": "stdout",
     "output_type": "stream",
     "text": [
      "    product_id  veces_agregado_primero                 product_name\n",
      "0        24852                   15562                       Banana\n",
      "1        13176                   11026       Bag of Organic Bananas\n",
      "2        27845                    4363           Organic Whole Milk\n",
      "3        21137                    3946         Organic Strawberries\n",
      "4        47209                    3390         Organic Hass Avocado\n",
      "5        21903                    3336         Organic Baby Spinach\n",
      "6        47766                    3044              Organic Avocado\n",
      "7        19660                    2336                 Spring Water\n",
      "8        16797                    2308                 Strawberries\n",
      "9        27966                    2024          Organic Raspberries\n",
      "10       44632                    1914   Sparkling Water Grapefruit\n",
      "11       49235                    1797          Organic Half & Half\n",
      "12       47626                    1737                  Large Lemon\n",
      "13         196                    1733                         Soda\n",
      "14       38689                    1397     Organic Reduced Fat Milk\n",
      "15       26209                    1370                        Limes\n",
      "16       12341                    1340                Hass Avocados\n",
      "17        5785                    1310  Organic Reduced Fat 2% Milk\n",
      "18       27086                    1309                  Half & Half\n",
      "19       43352                    1246                  Raspberries\n"
     ]
    }
   ],
   "source": [
    "top_primeros = primeros_contados.merge(products_df[['product_id', 'product_name']], on='product_id', how='left')\n",
    "print(top_primeros)"
   ]
  },
  {
   "cell_type": "markdown",
   "id": "28ce9872",
   "metadata": {
    "id": "28ce9872"
   },
   "source": [
    "Escribe aquí tus conclusiones\n",
    "\n",
    "Banana, Organic Bananas, Strawberries, Avocados, Milk son los productos mas agregados en el carrito.\n",
    "\n",
    "Los primeros productos en el carrito revelan que los clientes comienzan con productos frescos, saludables y esenciales."
   ]
  },
  {
   "cell_type": "markdown",
   "id": "uITbFCEoDosC",
   "metadata": {
    "id": "uITbFCEoDosC"
   },
   "source": [
    "### Conclusion general del proyecto:"
   ]
  },
  {
   "cell_type": "markdown",
   "id": "3ad5a8ed",
   "metadata": {},
   "source": [
    "En conclusión este proyecto ha sido muy desafiante y aún asi no se si está correcto, tuvw que usar la información de matplolib para las gráficas, pero lo que me costó más trabajo fue encontrar las variables de las preguntas en la sección C, espero seguir estudiando más de estos temas y aprender mucho más."
   ]
  }
 ],
 "metadata": {
  "colab": {
   "provenance": [
    {
     "file_id": "1aLGZ19-GYem3LZdYHuzuwYIeSw_tr0AT",
     "timestamp": 1689682143157
    }
   ]
  },
  "kernelspec": {
   "display_name": "Python 3",
   "language": "python",
   "name": "python3"
  },
  "language_info": {
   "codemirror_mode": {
    "name": "ipython",
    "version": 3
   },
   "file_extension": ".py",
   "mimetype": "text/x-python",
   "name": "python",
   "nbconvert_exporter": "python",
   "pygments_lexer": "ipython3",
   "version": "3.11.7"
  }
 },
 "nbformat": 4,
 "nbformat_minor": 5
}
